{
 "cells": [
  {
   "cell_type": "markdown",
   "id": "abc7844a-46ec-4ef7-9b5e-2dbc6646e651",
   "metadata": {},
   "source": [
    "# Train ANN/CNN/RNN Models"
   ]
  },
  {
   "cell_type": "code",
   "execution_count": 1,
   "id": "9c942262-f2bf-48a3-a374-0c68bc287a57",
   "metadata": {},
   "outputs": [
    {
     "name": "stderr",
     "output_type": "stream",
     "text": [
      "2023-01-17 16:18:06.897390: I tensorflow/core/platform/cpu_feature_guard.cc:193] This TensorFlow binary is optimized with oneAPI Deep Neural Network Library (oneDNN) to use the following CPU instructions in performance-critical operations:  AVX2 FMA\n",
      "To enable them in other operations, rebuild TensorFlow with the appropriate compiler flags.\n",
      "2023-01-17 16:18:07.024991: E tensorflow/stream_executor/cuda/cuda_blas.cc:2981] Unable to register cuBLAS factory: Attempting to register factory for plugin cuBLAS when one has already been registered\n",
      "2023-01-17 16:18:07.586399: W tensorflow/stream_executor/platform/default/dso_loader.cc:64] Could not load dynamic library 'libnvinfer.so.7'; dlerror: libnvinfer.so.7: cannot open shared object file: No such file or directory; LD_LIBRARY_PATH: /home/yoyo/Documents/TensorRT-5.0.2.6/lib\n",
      "2023-01-17 16:18:07.586451: W tensorflow/stream_executor/platform/default/dso_loader.cc:64] Could not load dynamic library 'libnvinfer_plugin.so.7'; dlerror: libnvinfer_plugin.so.7: cannot open shared object file: No such file or directory; LD_LIBRARY_PATH: /home/yoyo/Documents/TensorRT-5.0.2.6/lib\n",
      "2023-01-17 16:18:07.586458: W tensorflow/compiler/tf2tensorrt/utils/py_utils.cc:38] TF-TRT Warning: Cannot dlopen some TensorRT libraries. If you would like to use Nvidia GPU with TensorRT, please make sure the missing libraries mentioned above are installed properly.\n",
      "2023-01-17 16:18:08.698645: I tensorflow/stream_executor/cuda/cuda_gpu_executor.cc:980] successful NUMA node read from SysFS had negative value (-1), but there must be at least one NUMA node, so returning NUMA node zero\n",
      "2023-01-17 16:18:08.701722: W tensorflow/stream_executor/platform/default/dso_loader.cc:64] Could not load dynamic library 'libcusolver.so.11'; dlerror: libcusolver.so.11: cannot open shared object file: No such file or directory; LD_LIBRARY_PATH: /home/yoyo/Documents/TensorRT-5.0.2.6/lib\n",
      "2023-01-17 16:18:08.702206: W tensorflow/core/common_runtime/gpu/gpu_device.cc:1934] Cannot dlopen some GPU libraries. Please make sure the missing libraries mentioned above are installed properly if you would like to use GPU. Follow the guide at https://www.tensorflow.org/install/gpu for how to download and setup the required libraries for your platform.\n",
      "Skipping registering GPU devices...\n"
     ]
    }
   ],
   "source": [
    "%load_ext autoreload\n",
    "%autoreload 2\n",
    "\n",
    "import os\n",
    "import numpy as np\n",
    "\n",
    "import tensorflow as tf\n",
    "\n",
    "from model.dataset import SpectraDataset, DataGenerator, DataGeneratorRNN, split2feat\n",
    "\n",
    "gpus = tf.config.experimental.list_physical_devices('GPU')\n",
    "for gpu in gpus:\n",
    "    tf.config.experimental.set_memory_growth(gpu, True)"
   ]
  },
  {
   "cell_type": "markdown",
   "id": "1879b3d1-d4a1-469b-8ede-efd8d55a3b76",
   "metadata": {},
   "source": [
    "## Prepare Dataset"
   ]
  },
  {
   "cell_type": "code",
   "execution_count": 2,
   "id": "a002cb1a-9c12-4a2a-81c1-0f2550fad323",
   "metadata": {},
   "outputs": [
    {
     "name": "stdout",
     "output_type": "stream",
     "text": [
      "Reading train data\n",
      "No. of materials : 22\n",
      "[['Acrylic' '6']\n",
      " ['ENR' '6']\n",
      " ['EPDM' '6']\n",
      " ['HDPE' '6']\n",
      " ['LDPE' '6']\n",
      " ['Nylon' '6']\n",
      " ['PBAT' '6']\n",
      " ['PBS' '6']\n",
      " ['PC' '6']\n",
      " ['PEEK' '6']\n",
      " ['PEI' '6']\n",
      " ['PET' '6']\n",
      " ['PLA' '6']\n",
      " ['PMMA' '6']\n",
      " ['POM' '6']\n",
      " ['PP' '6']\n",
      " ['PS' '6']\n",
      " ['PTEE' '6']\n",
      " ['PU' '6']\n",
      " ['PVA' '6']\n",
      " ['PVC' '6']\n",
      " ['cellulose' '6']]\n",
      "Read 132 spectra for training.\n",
      "No. of data points/shifts per spectra (input shape) : (1792,)\n",
      "No. of classes : 22\n",
      "Reading test data\n",
      "Read 88 spectra for testing.\n"
     ]
    }
   ],
   "source": [
    "data_dir = 'data'\n",
    "dataset = SpectraDataset(data_dir)"
   ]
  },
  {
   "cell_type": "code",
   "execution_count": 3,
   "id": "8b8546a9-897b-4353-a487-a50bed1bab91",
   "metadata": {
    "tags": []
   },
   "outputs": [
    {
     "data": {
      "text/plain": [
       "(132, 22)"
      ]
     },
     "execution_count": 3,
     "metadata": {},
     "output_type": "execute_result"
    }
   ],
   "source": [
    "dataset.get_binary_targets().shape"
   ]
  },
  {
   "cell_type": "code",
   "execution_count": 4,
   "id": "ef5f114a-3a63-4c49-aad9-5682f35b2b8c",
   "metadata": {},
   "outputs": [
    {
     "data": {
      "text/plain": [
       "(132, 1792)"
      ]
     },
     "execution_count": 4,
     "metadata": {},
     "output_type": "execute_result"
    }
   ],
   "source": [
    "dataset.get_training_data().shape"
   ]
  },
  {
   "cell_type": "code",
   "execution_count": 5,
   "id": "258ea9bd-91bc-4b3a-ae6f-4ce9b35763f9",
   "metadata": {},
   "outputs": [],
   "source": [
    "datagen = DataGenerator(dataset)"
   ]
  },
  {
   "cell_type": "code",
   "execution_count": 6,
   "id": "d22203fe-afd9-420c-a13d-75300b14ea75",
   "metadata": {},
   "outputs": [],
   "source": [
    "n_features = 24\n",
    "datagen_rnn = DataGeneratorRNN(dataset, n_features=n_features)"
   ]
  },
  {
   "cell_type": "code",
   "execution_count": 7,
   "id": "06ce4aa7-aae3-4271-b083-3dd0bd94cc9c",
   "metadata": {},
   "outputs": [
    {
     "data": {
      "text/plain": [
       "(132, 75, 24)"
      ]
     },
     "execution_count": 7,
     "metadata": {},
     "output_type": "execute_result"
    }
   ],
   "source": [
    "datagen_rnn.data_shape"
   ]
  },
  {
   "cell_type": "markdown",
   "id": "2c55199b-165a-449f-a29b-a09cac60ef69",
   "metadata": {},
   "source": [
    "## Train"
   ]
  },
  {
   "cell_type": "code",
   "execution_count": 8,
   "id": "0cd73240-2960-4469-8fa8-022fc7a0a90d",
   "metadata": {},
   "outputs": [],
   "source": [
    "input_shape = dataset.get_input_shape()\n",
    "num_class = dataset.get_num_class()\n",
    "\n",
    "input_shape_rnn = datagen_rnn.data_shape"
   ]
  },
  {
   "cell_type": "markdown",
   "id": "3d4fc06a-2944-4098-806d-68b225ea10be",
   "metadata": {},
   "source": [
    "### ANN"
   ]
  },
  {
   "cell_type": "code",
   "execution_count": 9,
   "id": "b4cce87f-3d4d-4f5f-a18e-cd589c568aa6",
   "metadata": {
    "tags": []
   },
   "outputs": [
    {
     "name": "stdout",
     "output_type": "stream",
     "text": [
      "Model: \"model\"\n",
      "_________________________________________________________________\n",
      " Layer (type)                Output Shape              Param #   \n",
      "=================================================================\n",
      " input_1 (InputLayer)        [(None, 1792)]            0         \n",
      "                                                                 \n",
      " dense (Dense)               (None, 200)               358600    \n",
      "                                                                 \n",
      " dense_1 (Dense)             (None, 200)               40200     \n",
      "                                                                 \n",
      " dense_2 (Dense)             (None, 22)                4422      \n",
      "                                                                 \n",
      "=================================================================\n",
      "Total params: 403,222\n",
      "Trainable params: 403,222\n",
      "Non-trainable params: 0\n",
      "_________________________________________________________________\n",
      "Epoch 1/200\n"
     ]
    },
    {
     "name": "stderr",
     "output_type": "stream",
     "text": [
      "2023-01-17 16:18:10.171135: I tensorflow/core/platform/cpu_feature_guard.cc:193] This TensorFlow binary is optimized with oneAPI Deep Neural Network Library (oneDNN) to use the following CPU instructions in performance-critical operations:  AVX2 FMA\n",
      "To enable them in other operations, rebuild TensorFlow with the appropriate compiler flags.\n"
     ]
    },
    {
     "name": "stdout",
     "output_type": "stream",
     "text": [
      "4/4 [==============================] - 1s 75ms/step - loss: 0.4311 - binary_accuracy: 0.8281 - recall: 0.1328 - val_loss: 0.2311 - val_binary_accuracy: 0.9545 - val_recall: 0.0000e+00\n",
      "Epoch 2/200\n",
      "4/4 [==============================] - 0s 15ms/step - loss: 0.2060 - binary_accuracy: 0.9545 - recall: 0.0000e+00 - val_loss: 0.1849 - val_binary_accuracy: 0.9545 - val_recall: 0.0000e+00\n",
      "Epoch 3/200\n",
      "4/4 [==============================] - 0s 11ms/step - loss: 0.1832 - binary_accuracy: 0.9545 - recall: 0.0000e+00 - val_loss: 0.1811 - val_binary_accuracy: 0.9545 - val_recall: 0.0000e+00\n",
      "Epoch 4/200\n",
      "4/4 [==============================] - 0s 12ms/step - loss: 0.1822 - binary_accuracy: 0.9545 - recall: 0.0000e+00 - val_loss: 0.1822 - val_binary_accuracy: 0.9545 - val_recall: 0.0000e+00\n",
      "Epoch 5/200\n",
      "4/4 [==============================] - 0s 11ms/step - loss: 0.1830 - binary_accuracy: 0.9545 - recall: 0.0000e+00 - val_loss: 0.1809 - val_binary_accuracy: 0.9545 - val_recall: 0.0000e+00\n",
      "Epoch 6/200\n",
      "4/4 [==============================] - 0s 11ms/step - loss: 0.1799 - binary_accuracy: 0.9545 - recall: 0.0000e+00 - val_loss: 0.1776 - val_binary_accuracy: 0.9545 - val_recall: 0.0000e+00\n",
      "Epoch 7/200\n",
      "4/4 [==============================] - 0s 13ms/step - loss: 0.1767 - binary_accuracy: 0.9545 - recall: 0.0000e+00 - val_loss: 0.1745 - val_binary_accuracy: 0.9545 - val_recall: 0.0000e+00\n",
      "Epoch 8/200\n",
      "4/4 [==============================] - 0s 12ms/step - loss: 0.1724 - binary_accuracy: 0.9545 - recall: 0.0000e+00 - val_loss: 0.1704 - val_binary_accuracy: 0.9545 - val_recall: 0.0000e+00\n",
      "Epoch 9/200\n",
      "4/4 [==============================] - 0s 10ms/step - loss: 0.1678 - binary_accuracy: 0.9545 - recall: 0.0000e+00 - val_loss: 0.1667 - val_binary_accuracy: 0.9545 - val_recall: 0.0000e+00\n",
      "Epoch 10/200\n",
      "4/4 [==============================] - 0s 11ms/step - loss: 0.1644 - binary_accuracy: 0.9545 - recall: 0.0000e+00 - val_loss: 0.1635 - val_binary_accuracy: 0.9545 - val_recall: 0.0000e+00\n",
      "Epoch 11/200\n",
      "4/4 [==============================] - 0s 12ms/step - loss: 0.1602 - binary_accuracy: 0.9545 - recall: 0.0000e+00 - val_loss: 0.1606 - val_binary_accuracy: 0.9545 - val_recall: 0.0000e+00\n",
      "Epoch 12/200\n",
      "4/4 [==============================] - 0s 13ms/step - loss: 0.1579 - binary_accuracy: 0.9545 - recall: 0.0000e+00 - val_loss: 0.1578 - val_binary_accuracy: 0.9545 - val_recall: 0.0000e+00\n",
      "Epoch 13/200\n",
      "4/4 [==============================] - 0s 15ms/step - loss: 0.1542 - binary_accuracy: 0.9563 - recall: 0.0391 - val_loss: 0.1545 - val_binary_accuracy: 0.9561 - val_recall: 0.0341\n",
      "Epoch 14/200\n",
      "4/4 [==============================] - 0s 11ms/step - loss: 0.1487 - binary_accuracy: 0.9585 - recall: 0.0859 - val_loss: 0.1517 - val_binary_accuracy: 0.9587 - val_recall: 0.0909\n",
      "Epoch 15/200\n",
      "4/4 [==============================] - 0s 12ms/step - loss: 0.1475 - binary_accuracy: 0.9616 - recall: 0.1562 - val_loss: 0.1486 - val_binary_accuracy: 0.9607 - val_recall: 0.1364\n",
      "Epoch 16/200\n",
      "4/4 [==============================] - 0s 15ms/step - loss: 0.1438 - binary_accuracy: 0.9606 - recall: 0.1328 - val_loss: 0.1484 - val_binary_accuracy: 0.9607 - val_recall: 0.1364\n",
      "Epoch 17/200\n",
      "4/4 [==============================] - 0s 11ms/step - loss: 0.1402 - binary_accuracy: 0.9624 - recall: 0.1719 - val_loss: 0.1438 - val_binary_accuracy: 0.9613 - val_recall: 0.1477\n",
      "Epoch 18/200\n",
      "4/4 [==============================] - 0s 11ms/step - loss: 0.1375 - binary_accuracy: 0.9634 - recall: 0.1953 - val_loss: 0.1405 - val_binary_accuracy: 0.9618 - val_recall: 0.1591\n",
      "Epoch 19/200\n",
      "4/4 [==============================] - 0s 12ms/step - loss: 0.1331 - binary_accuracy: 0.9638 - recall: 0.2031 - val_loss: 0.1377 - val_binary_accuracy: 0.9618 - val_recall: 0.1591\n",
      "Epoch 20/200\n",
      "4/4 [==============================] - 0s 12ms/step - loss: 0.1314 - binary_accuracy: 0.9638 - recall: 0.2031 - val_loss: 0.1400 - val_binary_accuracy: 0.9613 - val_recall: 0.1477\n",
      "Epoch 21/200\n",
      "4/4 [==============================] - 0s 11ms/step - loss: 0.1288 - binary_accuracy: 0.9641 - recall: 0.2109 - val_loss: 0.1351 - val_binary_accuracy: 0.9613 - val_recall: 0.1477\n",
      "Epoch 22/200\n",
      "4/4 [==============================] - 0s 12ms/step - loss: 0.1254 - binary_accuracy: 0.9641 - recall: 0.2109 - val_loss: 0.1308 - val_binary_accuracy: 0.9618 - val_recall: 0.1591\n",
      "Epoch 23/200\n",
      "4/4 [==============================] - 0s 14ms/step - loss: 0.1239 - binary_accuracy: 0.9641 - recall: 0.2109 - val_loss: 0.1299 - val_binary_accuracy: 0.9618 - val_recall: 0.1591\n",
      "Epoch 24/200\n",
      "4/4 [==============================] - 0s 10ms/step - loss: 0.1200 - binary_accuracy: 0.9645 - recall: 0.2188 - val_loss: 0.1308 - val_binary_accuracy: 0.9618 - val_recall: 0.1591\n",
      "Epoch 25/200\n",
      "4/4 [==============================] - 0s 11ms/step - loss: 0.1190 - binary_accuracy: 0.9638 - recall: 0.2031 - val_loss: 0.1262 - val_binary_accuracy: 0.9618 - val_recall: 0.1591\n",
      "Epoch 26/200\n",
      "4/4 [==============================] - 0s 11ms/step - loss: 0.1155 - binary_accuracy: 0.9641 - recall: 0.2109 - val_loss: 0.1277 - val_binary_accuracy: 0.9613 - val_recall: 0.1477\n",
      "Epoch 27/200\n",
      "4/4 [==============================] - 0s 10ms/step - loss: 0.1132 - binary_accuracy: 0.9641 - recall: 0.2109 - val_loss: 0.1215 - val_binary_accuracy: 0.9618 - val_recall: 0.1591\n",
      "Epoch 28/200\n",
      "4/4 [==============================] - 0s 11ms/step - loss: 0.1136 - binary_accuracy: 0.9645 - recall: 0.2188 - val_loss: 0.1202 - val_binary_accuracy: 0.9618 - val_recall: 0.1591\n",
      "Epoch 29/200\n",
      "4/4 [==============================] - 0s 11ms/step - loss: 0.1093 - binary_accuracy: 0.9645 - recall: 0.2188 - val_loss: 0.1248 - val_binary_accuracy: 0.9618 - val_recall: 0.1591\n",
      "Epoch 30/200\n",
      "4/4 [==============================] - 0s 10ms/step - loss: 0.1094 - binary_accuracy: 0.9641 - recall: 0.2109 - val_loss: 0.1169 - val_binary_accuracy: 0.9618 - val_recall: 0.1591\n",
      "Epoch 31/200\n",
      "4/4 [==============================] - 0s 11ms/step - loss: 0.1049 - binary_accuracy: 0.9645 - recall: 0.2188 - val_loss: 0.1129 - val_binary_accuracy: 0.9618 - val_recall: 0.1591\n",
      "Epoch 32/200\n",
      "4/4 [==============================] - 0s 11ms/step - loss: 0.1045 - binary_accuracy: 0.9641 - recall: 0.2109 - val_loss: 0.1146 - val_binary_accuracy: 0.9628 - val_recall: 0.1818\n",
      "Epoch 33/200\n",
      "4/4 [==============================] - 0s 11ms/step - loss: 0.1010 - binary_accuracy: 0.9645 - recall: 0.2188 - val_loss: 0.1194 - val_binary_accuracy: 0.9633 - val_recall: 0.1932\n",
      "Epoch 34/200\n",
      "4/4 [==============================] - 0s 11ms/step - loss: 0.1015 - binary_accuracy: 0.9663 - recall: 0.2578 - val_loss: 0.1131 - val_binary_accuracy: 0.9649 - val_recall: 0.2273\n",
      "Epoch 35/200\n",
      "4/4 [==============================] - 0s 11ms/step - loss: 0.0989 - binary_accuracy: 0.9656 - recall: 0.2422 - val_loss: 0.1067 - val_binary_accuracy: 0.9638 - val_recall: 0.2045\n",
      "Epoch 36/200\n",
      "4/4 [==============================] - 0s 11ms/step - loss: 0.0975 - binary_accuracy: 0.9663 - recall: 0.2578 - val_loss: 0.1099 - val_binary_accuracy: 0.9644 - val_recall: 0.2159\n",
      "Epoch 37/200\n",
      "4/4 [==============================] - 0s 12ms/step - loss: 0.0938 - binary_accuracy: 0.9659 - recall: 0.2500 - val_loss: 0.1104 - val_binary_accuracy: 0.9669 - val_recall: 0.2727\n",
      "Epoch 38/200\n",
      "4/4 [==============================] - 0s 11ms/step - loss: 0.0942 - binary_accuracy: 0.9698 - recall: 0.3359 - val_loss: 0.1019 - val_binary_accuracy: 0.9680 - val_recall: 0.2955\n",
      "Epoch 39/200\n",
      "4/4 [==============================] - 0s 10ms/step - loss: 0.0917 - binary_accuracy: 0.9673 - recall: 0.2812 - val_loss: 0.0997 - val_binary_accuracy: 0.9664 - val_recall: 0.2614\n",
      "Epoch 40/200\n",
      "4/4 [==============================] - 0s 10ms/step - loss: 0.0899 - binary_accuracy: 0.9680 - recall: 0.2969 - val_loss: 0.1018 - val_binary_accuracy: 0.9675 - val_recall: 0.2841\n",
      "Epoch 41/200\n",
      "4/4 [==============================] - 0s 10ms/step - loss: 0.0897 - binary_accuracy: 0.9695 - recall: 0.3281 - val_loss: 0.1062 - val_binary_accuracy: 0.9706 - val_recall: 0.3750\n",
      "Epoch 42/200\n",
      "4/4 [==============================] - 0s 10ms/step - loss: 0.0848 - binary_accuracy: 0.9730 - recall: 0.4062 - val_loss: 0.1020 - val_binary_accuracy: 0.9726 - val_recall: 0.4091\n",
      "Epoch 43/200\n",
      "4/4 [==============================] - 0s 10ms/step - loss: 0.0842 - binary_accuracy: 0.9737 - recall: 0.4219 - val_loss: 0.0936 - val_binary_accuracy: 0.9695 - val_recall: 0.3295\n",
      "Epoch 44/200\n",
      "4/4 [==============================] - 0s 11ms/step - loss: 0.0860 - binary_accuracy: 0.9688 - recall: 0.3203 - val_loss: 0.0906 - val_binary_accuracy: 0.9685 - val_recall: 0.3068\n",
      "Epoch 45/200\n",
      "4/4 [==============================] - 0s 12ms/step - loss: 0.0833 - binary_accuracy: 0.9698 - recall: 0.3359 - val_loss: 0.1037 - val_binary_accuracy: 0.9747 - val_recall: 0.4545\n",
      "Epoch 46/200\n",
      "4/4 [==============================] - 0s 12ms/step - loss: 0.0818 - binary_accuracy: 0.9769 - recall: 0.4922 - val_loss: 0.1107 - val_binary_accuracy: 0.9731 - val_recall: 0.4318\n",
      "Epoch 47/200\n",
      "4/4 [==============================] - 0s 12ms/step - loss: 0.0835 - binary_accuracy: 0.9737 - recall: 0.4375 - val_loss: 0.0910 - val_binary_accuracy: 0.9737 - val_recall: 0.4432\n",
      "Epoch 48/200\n",
      "4/4 [==============================] - 0s 11ms/step - loss: 0.0807 - binary_accuracy: 0.9723 - recall: 0.3906 - val_loss: 0.0881 - val_binary_accuracy: 0.9731 - val_recall: 0.4091\n",
      "Epoch 49/200\n",
      "4/4 [==============================] - 0s 11ms/step - loss: 0.0762 - binary_accuracy: 0.9759 - recall: 0.4766 - val_loss: 0.0891 - val_binary_accuracy: 0.9752 - val_recall: 0.4659\n",
      "Epoch 50/200\n",
      "4/4 [==============================] - 0s 10ms/step - loss: 0.0768 - binary_accuracy: 0.9748 - recall: 0.4531 - val_loss: 0.0877 - val_binary_accuracy: 0.9757 - val_recall: 0.4773\n",
      "Epoch 51/200\n",
      "4/4 [==============================] - 0s 11ms/step - loss: 0.0748 - binary_accuracy: 0.9776 - recall: 0.5156 - val_loss: 0.0869 - val_binary_accuracy: 0.9747 - val_recall: 0.4545\n",
      "Epoch 52/200\n",
      "4/4 [==============================] - 0s 12ms/step - loss: 0.0710 - binary_accuracy: 0.9780 - recall: 0.5234 - val_loss: 0.0801 - val_binary_accuracy: 0.9747 - val_recall: 0.4545\n",
      "Epoch 53/200\n",
      "4/4 [==============================] - 0s 10ms/step - loss: 0.0736 - binary_accuracy: 0.9759 - recall: 0.4688 - val_loss: 0.0816 - val_binary_accuracy: 0.9762 - val_recall: 0.4886\n",
      "Epoch 54/200\n",
      "4/4 [==============================] - 0s 10ms/step - loss: 0.0684 - binary_accuracy: 0.9790 - recall: 0.5469 - val_loss: 0.0796 - val_binary_accuracy: 0.9762 - val_recall: 0.4886\n",
      "Epoch 55/200\n",
      "4/4 [==============================] - 0s 10ms/step - loss: 0.0716 - binary_accuracy: 0.9780 - recall: 0.5156 - val_loss: 0.0908 - val_binary_accuracy: 0.9778 - val_recall: 0.5227\n",
      "Epoch 56/200\n",
      "4/4 [==============================] - 0s 16ms/step - loss: 0.0696 - binary_accuracy: 0.9790 - recall: 0.5547 - val_loss: 0.0841 - val_binary_accuracy: 0.9773 - val_recall: 0.5227\n",
      "Epoch 57/200\n",
      "4/4 [==============================] - 0s 11ms/step - loss: 0.0683 - binary_accuracy: 0.9790 - recall: 0.5547 - val_loss: 0.0772 - val_binary_accuracy: 0.9768 - val_recall: 0.5114\n",
      "Epoch 58/200\n",
      "4/4 [==============================] - 0s 11ms/step - loss: 0.0683 - binary_accuracy: 0.9783 - recall: 0.5312 - val_loss: 0.0752 - val_binary_accuracy: 0.9783 - val_recall: 0.5341\n",
      "Epoch 59/200\n",
      "4/4 [==============================] - 0s 12ms/step - loss: 0.0697 - binary_accuracy: 0.9766 - recall: 0.4922 - val_loss: 0.0850 - val_binary_accuracy: 0.9788 - val_recall: 0.5455\n",
      "Epoch 60/200\n",
      "4/4 [==============================] - 0s 11ms/step - loss: 0.0660 - binary_accuracy: 0.9805 - recall: 0.5859 - val_loss: 0.0845 - val_binary_accuracy: 0.9778 - val_recall: 0.5227\n",
      "Epoch 61/200\n",
      "4/4 [==============================] - 0s 11ms/step - loss: 0.0658 - binary_accuracy: 0.9780 - recall: 0.5234 - val_loss: 0.0779 - val_binary_accuracy: 0.9778 - val_recall: 0.5341\n",
      "Epoch 62/200\n",
      "4/4 [==============================] - 0s 13ms/step - loss: 0.0611 - binary_accuracy: 0.9812 - recall: 0.5859 - val_loss: 0.0736 - val_binary_accuracy: 0.9778 - val_recall: 0.5227\n",
      "Epoch 63/200\n",
      "4/4 [==============================] - 0s 12ms/step - loss: 0.0591 - binary_accuracy: 0.9808 - recall: 0.5781 - val_loss: 0.0729 - val_binary_accuracy: 0.9799 - val_recall: 0.5568\n",
      "Epoch 64/200\n",
      "4/4 [==============================] - 0s 12ms/step - loss: 0.0592 - binary_accuracy: 0.9808 - recall: 0.6016 - val_loss: 0.0775 - val_binary_accuracy: 0.9799 - val_recall: 0.5682\n",
      "Epoch 65/200\n",
      "4/4 [==============================] - 0s 11ms/step - loss: 0.0593 - binary_accuracy: 0.9808 - recall: 0.6016 - val_loss: 0.0720 - val_binary_accuracy: 0.9793 - val_recall: 0.5568\n",
      "Epoch 66/200\n",
      "4/4 [==============================] - 0s 11ms/step - loss: 0.0574 - binary_accuracy: 0.9808 - recall: 0.5781 - val_loss: 0.0691 - val_binary_accuracy: 0.9788 - val_recall: 0.5455\n",
      "Epoch 67/200\n",
      "4/4 [==============================] - 0s 17ms/step - loss: 0.0557 - binary_accuracy: 0.9812 - recall: 0.5859 - val_loss: 0.0686 - val_binary_accuracy: 0.9814 - val_recall: 0.5909\n",
      "Epoch 68/200\n",
      "4/4 [==============================] - 0s 14ms/step - loss: 0.0545 - binary_accuracy: 0.9826 - recall: 0.6172 - val_loss: 0.0730 - val_binary_accuracy: 0.9824 - val_recall: 0.6136\n",
      "Epoch 69/200\n",
      "4/4 [==============================] - 0s 11ms/step - loss: 0.0554 - binary_accuracy: 0.9840 - recall: 0.6562 - val_loss: 0.0721 - val_binary_accuracy: 0.9814 - val_recall: 0.6023\n",
      "Epoch 70/200\n",
      "4/4 [==============================] - 0s 16ms/step - loss: 0.0549 - binary_accuracy: 0.9822 - recall: 0.6250 - val_loss: 0.0659 - val_binary_accuracy: 0.9814 - val_recall: 0.6023\n",
      "Epoch 71/200\n",
      "4/4 [==============================] - 0s 11ms/step - loss: 0.0511 - binary_accuracy: 0.9837 - recall: 0.6406 - val_loss: 0.0636 - val_binary_accuracy: 0.9809 - val_recall: 0.5795\n",
      "Epoch 72/200\n",
      "4/4 [==============================] - 0s 11ms/step - loss: 0.0559 - binary_accuracy: 0.9812 - recall: 0.5859 - val_loss: 0.0696 - val_binary_accuracy: 0.9819 - val_recall: 0.6136\n",
      "Epoch 73/200\n",
      "4/4 [==============================] - 0s 11ms/step - loss: 0.0550 - binary_accuracy: 0.9826 - recall: 0.6562 - val_loss: 0.0748 - val_binary_accuracy: 0.9814 - val_recall: 0.6364\n",
      "Epoch 74/200\n",
      "4/4 [==============================] - 0s 11ms/step - loss: 0.0551 - binary_accuracy: 0.9837 - recall: 0.6484 - val_loss: 0.0649 - val_binary_accuracy: 0.9814 - val_recall: 0.6023\n",
      "Epoch 75/200\n",
      "4/4 [==============================] - 0s 11ms/step - loss: 0.0528 - binary_accuracy: 0.9840 - recall: 0.6484 - val_loss: 0.0644 - val_binary_accuracy: 0.9819 - val_recall: 0.6023\n",
      "Epoch 76/200\n",
      "4/4 [==============================] - 0s 13ms/step - loss: 0.0484 - binary_accuracy: 0.9847 - recall: 0.6641 - val_loss: 0.0672 - val_binary_accuracy: 0.9830 - val_recall: 0.6364\n",
      "Epoch 77/200\n",
      "4/4 [==============================] - 0s 13ms/step - loss: 0.0516 - binary_accuracy: 0.9847 - recall: 0.6719 - val_loss: 0.0647 - val_binary_accuracy: 0.9814 - val_recall: 0.5909\n",
      "Epoch 78/200\n",
      "4/4 [==============================] - 0s 14ms/step - loss: 0.0494 - binary_accuracy: 0.9844 - recall: 0.6562 - val_loss: 0.0629 - val_binary_accuracy: 0.9830 - val_recall: 0.6364\n",
      "Epoch 79/200\n",
      "4/4 [==============================] - 0s 10ms/step - loss: 0.0491 - binary_accuracy: 0.9851 - recall: 0.6719 - val_loss: 0.0653 - val_binary_accuracy: 0.9814 - val_recall: 0.6023\n",
      "Epoch 80/200\n",
      "4/4 [==============================] - 0s 12ms/step - loss: 0.0462 - binary_accuracy: 0.9847 - recall: 0.6719 - val_loss: 0.0664 - val_binary_accuracy: 0.9840 - val_recall: 0.6591\n",
      "Epoch 81/200\n",
      "4/4 [==============================] - 0s 14ms/step - loss: 0.0466 - binary_accuracy: 0.9862 - recall: 0.6953 - val_loss: 0.0690 - val_binary_accuracy: 0.9830 - val_recall: 0.6364\n",
      "Epoch 82/200\n",
      "4/4 [==============================] - 0s 13ms/step - loss: 0.0464 - binary_accuracy: 0.9851 - recall: 0.6719 - val_loss: 0.0648 - val_binary_accuracy: 0.9840 - val_recall: 0.6591\n",
      "Epoch 83/200\n",
      "4/4 [==============================] - 0s 11ms/step - loss: 0.0454 - binary_accuracy: 0.9862 - recall: 0.7031 - val_loss: 0.0598 - val_binary_accuracy: 0.9819 - val_recall: 0.6136\n",
      "Epoch 84/200\n",
      "4/4 [==============================] - 0s 12ms/step - loss: 0.0430 - binary_accuracy: 0.9865 - recall: 0.7031 - val_loss: 0.0583 - val_binary_accuracy: 0.9835 - val_recall: 0.6477\n",
      "Epoch 85/200\n",
      "4/4 [==============================] - 0s 11ms/step - loss: 0.0452 - binary_accuracy: 0.9847 - recall: 0.6719 - val_loss: 0.0675 - val_binary_accuracy: 0.9830 - val_recall: 0.6364\n",
      "Epoch 86/200\n",
      "4/4 [==============================] - 0s 13ms/step - loss: 0.0438 - binary_accuracy: 0.9865 - recall: 0.7109 - val_loss: 0.0678 - val_binary_accuracy: 0.9824 - val_recall: 0.6364\n",
      "Epoch 87/200\n",
      "4/4 [==============================] - 0s 10ms/step - loss: 0.0422 - binary_accuracy: 0.9862 - recall: 0.6953 - val_loss: 0.0565 - val_binary_accuracy: 0.9819 - val_recall: 0.6136\n",
      "Epoch 88/200\n",
      "4/4 [==============================] - 0s 10ms/step - loss: 0.0457 - binary_accuracy: 0.9851 - recall: 0.6797 - val_loss: 0.0568 - val_binary_accuracy: 0.9845 - val_recall: 0.6705\n",
      "Epoch 89/200\n",
      "4/4 [==============================] - 0s 9ms/step - loss: 0.0426 - binary_accuracy: 0.9858 - recall: 0.6875 - val_loss: 0.0646 - val_binary_accuracy: 0.9824 - val_recall: 0.6705\n",
      "Epoch 90/200\n",
      "4/4 [==============================] - 0s 13ms/step - loss: 0.0432 - binary_accuracy: 0.9851 - recall: 0.7109 - val_loss: 0.0638 - val_binary_accuracy: 0.9830 - val_recall: 0.6477\n",
      "Epoch 91/200\n",
      "4/4 [==============================] - 0s 12ms/step - loss: 0.0430 - binary_accuracy: 0.9876 - recall: 0.7266 - val_loss: 0.0578 - val_binary_accuracy: 0.9819 - val_recall: 0.6023\n",
      "Epoch 92/200\n",
      "4/4 [==============================] - 0s 11ms/step - loss: 0.0431 - binary_accuracy: 0.9865 - recall: 0.7031 - val_loss: 0.0571 - val_binary_accuracy: 0.9850 - val_recall: 0.6818\n",
      "Epoch 93/200\n",
      "4/4 [==============================] - 0s 12ms/step - loss: 0.0389 - binary_accuracy: 0.9876 - recall: 0.7266 - val_loss: 0.0598 - val_binary_accuracy: 0.9840 - val_recall: 0.6591\n",
      "Epoch 94/200\n",
      "4/4 [==============================] - 0s 11ms/step - loss: 0.0391 - binary_accuracy: 0.9876 - recall: 0.7266 - val_loss: 0.0591 - val_binary_accuracy: 0.9850 - val_recall: 0.6818\n",
      "Epoch 95/200\n",
      "4/4 [==============================] - 0s 12ms/step - loss: 0.0367 - binary_accuracy: 0.9893 - recall: 0.7656 - val_loss: 0.0532 - val_binary_accuracy: 0.9850 - val_recall: 0.6818\n",
      "Epoch 96/200\n",
      "4/4 [==============================] - 0s 12ms/step - loss: 0.0435 - binary_accuracy: 0.9862 - recall: 0.6953 - val_loss: 0.0536 - val_binary_accuracy: 0.9845 - val_recall: 0.6705\n",
      "Epoch 97/200\n",
      "4/4 [==============================] - 0s 15ms/step - loss: 0.0385 - binary_accuracy: 0.9890 - recall: 0.7578 - val_loss: 0.0555 - val_binary_accuracy: 0.9850 - val_recall: 0.6932\n",
      "Epoch 98/200\n",
      "4/4 [==============================] - 0s 13ms/step - loss: 0.0385 - binary_accuracy: 0.9890 - recall: 0.7656 - val_loss: 0.0536 - val_binary_accuracy: 0.9845 - val_recall: 0.6705\n",
      "Epoch 99/200\n",
      "4/4 [==============================] - 0s 11ms/step - loss: 0.0353 - binary_accuracy: 0.9872 - recall: 0.7266 - val_loss: 0.0577 - val_binary_accuracy: 0.9861 - val_recall: 0.6932\n",
      "Epoch 100/200\n",
      "4/4 [==============================] - 0s 11ms/step - loss: 0.0374 - binary_accuracy: 0.9883 - recall: 0.7578 - val_loss: 0.0594 - val_binary_accuracy: 0.9840 - val_recall: 0.6591\n",
      "Epoch 101/200\n",
      "4/4 [==============================] - 0s 12ms/step - loss: 0.0365 - binary_accuracy: 0.9876 - recall: 0.7266 - val_loss: 0.0560 - val_binary_accuracy: 0.9855 - val_recall: 0.6932\n",
      "Epoch 102/200\n",
      "4/4 [==============================] - 0s 12ms/step - loss: 0.0359 - binary_accuracy: 0.9886 - recall: 0.7500 - val_loss: 0.0537 - val_binary_accuracy: 0.9850 - val_recall: 0.6818\n",
      "Epoch 103/200\n",
      "4/4 [==============================] - 0s 12ms/step - loss: 0.0349 - binary_accuracy: 0.9886 - recall: 0.7656 - val_loss: 0.0489 - val_binary_accuracy: 0.9866 - val_recall: 0.7159\n",
      "Epoch 104/200\n",
      "4/4 [==============================] - 0s 11ms/step - loss: 0.0360 - binary_accuracy: 0.9893 - recall: 0.7812 - val_loss: 0.0497 - val_binary_accuracy: 0.9866 - val_recall: 0.7045\n",
      "Epoch 105/200\n",
      "4/4 [==============================] - 0s 11ms/step - loss: 0.0331 - binary_accuracy: 0.9893 - recall: 0.7656 - val_loss: 0.0558 - val_binary_accuracy: 0.9861 - val_recall: 0.7159\n",
      "Epoch 106/200\n",
      "4/4 [==============================] - 0s 18ms/step - loss: 0.0371 - binary_accuracy: 0.9869 - recall: 0.7422 - val_loss: 0.0580 - val_binary_accuracy: 0.9835 - val_recall: 0.6705\n",
      "Epoch 107/200\n",
      "4/4 [==============================] - 0s 10ms/step - loss: 0.0360 - binary_accuracy: 0.9886 - recall: 0.7734 - val_loss: 0.0529 - val_binary_accuracy: 0.9855 - val_recall: 0.6932\n",
      "Epoch 108/200\n",
      "4/4 [==============================] - 0s 10ms/step - loss: 0.0330 - binary_accuracy: 0.9893 - recall: 0.7656 - val_loss: 0.0523 - val_binary_accuracy: 0.9871 - val_recall: 0.7273\n",
      "Epoch 109/200\n",
      "4/4 [==============================] - 0s 11ms/step - loss: 0.0310 - binary_accuracy: 0.9911 - recall: 0.8047 - val_loss: 0.0512 - val_binary_accuracy: 0.9861 - val_recall: 0.7159\n",
      "Epoch 110/200\n",
      "4/4 [==============================] - 0s 12ms/step - loss: 0.0328 - binary_accuracy: 0.9883 - recall: 0.7500 - val_loss: 0.0573 - val_binary_accuracy: 0.9861 - val_recall: 0.7273\n",
      "Epoch 111/200\n",
      "4/4 [==============================] - 0s 13ms/step - loss: 0.0356 - binary_accuracy: 0.9908 - recall: 0.8047 - val_loss: 0.0497 - val_binary_accuracy: 0.9861 - val_recall: 0.7045\n",
      "Epoch 112/200\n",
      "4/4 [==============================] - 0s 13ms/step - loss: 0.0314 - binary_accuracy: 0.9915 - recall: 0.8125 - val_loss: 0.0507 - val_binary_accuracy: 0.9850 - val_recall: 0.6705\n",
      "Epoch 113/200\n",
      "4/4 [==============================] - 0s 10ms/step - loss: 0.0301 - binary_accuracy: 0.9879 - recall: 0.7422 - val_loss: 0.0512 - val_binary_accuracy: 0.9881 - val_recall: 0.7614\n",
      "Epoch 114/200\n",
      "4/4 [==============================] - 0s 17ms/step - loss: 0.0305 - binary_accuracy: 0.9918 - recall: 0.8438 - val_loss: 0.0544 - val_binary_accuracy: 0.9861 - val_recall: 0.6932\n",
      "Epoch 115/200\n",
      "4/4 [==============================] - 0s 11ms/step - loss: 0.0293 - binary_accuracy: 0.9897 - recall: 0.7812 - val_loss: 0.0548 - val_binary_accuracy: 0.9881 - val_recall: 0.7614\n",
      "Epoch 116/200\n",
      "4/4 [==============================] - 0s 11ms/step - loss: 0.0276 - binary_accuracy: 0.9922 - recall: 0.8359 - val_loss: 0.0518 - val_binary_accuracy: 0.9850 - val_recall: 0.6932\n",
      "Epoch 117/200\n",
      "4/4 [==============================] - 0s 12ms/step - loss: 0.0279 - binary_accuracy: 0.9911 - recall: 0.8125 - val_loss: 0.0497 - val_binary_accuracy: 0.9881 - val_recall: 0.7500\n",
      "Epoch 118/200\n",
      "4/4 [==============================] - 0s 14ms/step - loss: 0.0266 - binary_accuracy: 0.9922 - recall: 0.8281 - val_loss: 0.0438 - val_binary_accuracy: 0.9881 - val_recall: 0.7386\n",
      "Epoch 119/200\n",
      "4/4 [==============================] - 0s 13ms/step - loss: 0.0351 - binary_accuracy: 0.9901 - recall: 0.7891 - val_loss: 0.0517 - val_binary_accuracy: 0.9876 - val_recall: 0.7500\n",
      "Epoch 120/200\n",
      "4/4 [==============================] - 0s 11ms/step - loss: 0.0291 - binary_accuracy: 0.9918 - recall: 0.8281 - val_loss: 0.0558 - val_binary_accuracy: 0.9845 - val_recall: 0.6932\n",
      "Epoch 121/200\n",
      "4/4 [==============================] - 0s 12ms/step - loss: 0.0292 - binary_accuracy: 0.9904 - recall: 0.8047 - val_loss: 0.0493 - val_binary_accuracy: 0.9861 - val_recall: 0.7386\n",
      "Epoch 122/200\n",
      "4/4 [==============================] - 0s 11ms/step - loss: 0.0296 - binary_accuracy: 0.9908 - recall: 0.8203 - val_loss: 0.0425 - val_binary_accuracy: 0.9881 - val_recall: 0.7386\n",
      "Epoch 123/200\n",
      "4/4 [==============================] - 0s 12ms/step - loss: 0.0286 - binary_accuracy: 0.9925 - recall: 0.8438 - val_loss: 0.0472 - val_binary_accuracy: 0.9881 - val_recall: 0.7500\n",
      "Epoch 124/200\n",
      "4/4 [==============================] - 0s 11ms/step - loss: 0.0268 - binary_accuracy: 0.9915 - recall: 0.8203 - val_loss: 0.0515 - val_binary_accuracy: 0.9850 - val_recall: 0.7159\n",
      "Epoch 125/200\n",
      "4/4 [==============================] - 0s 13ms/step - loss: 0.0262 - binary_accuracy: 0.9915 - recall: 0.8359 - val_loss: 0.0485 - val_binary_accuracy: 0.9881 - val_recall: 0.7614\n",
      "Epoch 126/200\n",
      "4/4 [==============================] - 0s 13ms/step - loss: 0.0286 - binary_accuracy: 0.9908 - recall: 0.8047 - val_loss: 0.0455 - val_binary_accuracy: 0.9886 - val_recall: 0.7500\n",
      "Epoch 127/200\n",
      "4/4 [==============================] - 0s 13ms/step - loss: 0.0245 - binary_accuracy: 0.9933 - recall: 0.8516 - val_loss: 0.0439 - val_binary_accuracy: 0.9892 - val_recall: 0.7727\n",
      "Epoch 128/200\n",
      "4/4 [==============================] - 0s 14ms/step - loss: 0.0231 - binary_accuracy: 0.9940 - recall: 0.8672 - val_loss: 0.0409 - val_binary_accuracy: 0.9886 - val_recall: 0.7614\n",
      "Epoch 129/200\n",
      "4/4 [==============================] - 0s 12ms/step - loss: 0.0221 - binary_accuracy: 0.9940 - recall: 0.8672 - val_loss: 0.0399 - val_binary_accuracy: 0.9902 - val_recall: 0.7955\n",
      "Epoch 130/200\n",
      "4/4 [==============================] - 0s 11ms/step - loss: 0.0228 - binary_accuracy: 0.9940 - recall: 0.8672 - val_loss: 0.0408 - val_binary_accuracy: 0.9892 - val_recall: 0.7727\n",
      "Epoch 131/200\n",
      "4/4 [==============================] - 0s 10ms/step - loss: 0.0232 - binary_accuracy: 0.9933 - recall: 0.8516 - val_loss: 0.0422 - val_binary_accuracy: 0.9886 - val_recall: 0.7727\n",
      "Epoch 132/200\n",
      "4/4 [==============================] - 0s 16ms/step - loss: 0.0229 - binary_accuracy: 0.9933 - recall: 0.8594 - val_loss: 0.0433 - val_binary_accuracy: 0.9897 - val_recall: 0.7841\n",
      "Epoch 133/200\n",
      "4/4 [==============================] - 0s 11ms/step - loss: 0.0241 - binary_accuracy: 0.9936 - recall: 0.8672 - val_loss: 0.0446 - val_binary_accuracy: 0.9876 - val_recall: 0.7386\n",
      "Epoch 134/200\n",
      "4/4 [==============================] - 0s 11ms/step - loss: 0.0220 - binary_accuracy: 0.9947 - recall: 0.8906 - val_loss: 0.0466 - val_binary_accuracy: 0.9892 - val_recall: 0.7841\n",
      "Epoch 135/200\n",
      "4/4 [==============================] - 0s 12ms/step - loss: 0.0232 - binary_accuracy: 0.9947 - recall: 0.8984 - val_loss: 0.0416 - val_binary_accuracy: 0.9881 - val_recall: 0.7614\n",
      "Epoch 136/200\n",
      "4/4 [==============================] - 0s 10ms/step - loss: 0.0253 - binary_accuracy: 0.9918 - recall: 0.8281 - val_loss: 0.0411 - val_binary_accuracy: 0.9897 - val_recall: 0.7841\n",
      "Epoch 137/200\n",
      "4/4 [==============================] - 0s 10ms/step - loss: 0.0216 - binary_accuracy: 0.9954 - recall: 0.8984 - val_loss: 0.0414 - val_binary_accuracy: 0.9897 - val_recall: 0.7727\n",
      "Epoch 138/200\n",
      "4/4 [==============================] - 0s 10ms/step - loss: 0.0204 - binary_accuracy: 0.9943 - recall: 0.8906 - val_loss: 0.0398 - val_binary_accuracy: 0.9902 - val_recall: 0.7955\n",
      "Epoch 139/200\n",
      "4/4 [==============================] - 0s 16ms/step - loss: 0.0202 - binary_accuracy: 0.9950 - recall: 0.8906 - val_loss: 0.0406 - val_binary_accuracy: 0.9881 - val_recall: 0.7614\n",
      "Epoch 140/200\n",
      "4/4 [==============================] - 0s 11ms/step - loss: 0.0227 - binary_accuracy: 0.9933 - recall: 0.8594 - val_loss: 0.0448 - val_binary_accuracy: 0.9892 - val_recall: 0.7955\n",
      "Epoch 141/200\n",
      "4/4 [==============================] - 0s 13ms/step - loss: 0.0218 - binary_accuracy: 0.9950 - recall: 0.9062 - val_loss: 0.0441 - val_binary_accuracy: 0.9907 - val_recall: 0.8068\n",
      "Epoch 142/200\n",
      "4/4 [==============================] - 0s 11ms/step - loss: 0.0217 - binary_accuracy: 0.9954 - recall: 0.8984 - val_loss: 0.0415 - val_binary_accuracy: 0.9886 - val_recall: 0.7500\n",
      "Epoch 143/200\n",
      "4/4 [==============================] - 0s 10ms/step - loss: 0.0234 - binary_accuracy: 0.9911 - recall: 0.8281 - val_loss: 0.0439 - val_binary_accuracy: 0.9886 - val_recall: 0.7841\n",
      "Epoch 144/200\n",
      "4/4 [==============================] - 0s 10ms/step - loss: 0.0197 - binary_accuracy: 0.9964 - recall: 0.9453 - val_loss: 0.0402 - val_binary_accuracy: 0.9897 - val_recall: 0.7841\n",
      "Epoch 145/200\n",
      "4/4 [==============================] - 0s 10ms/step - loss: 0.0192 - binary_accuracy: 0.9943 - recall: 0.8828 - val_loss: 0.0413 - val_binary_accuracy: 0.9897 - val_recall: 0.7841\n",
      "Epoch 146/200\n",
      "4/4 [==============================] - 0s 10ms/step - loss: 0.0183 - binary_accuracy: 0.9961 - recall: 0.9141 - val_loss: 0.0413 - val_binary_accuracy: 0.9892 - val_recall: 0.7727\n",
      "Epoch 147/200\n",
      "4/4 [==============================] - 0s 12ms/step - loss: 0.0198 - binary_accuracy: 0.9940 - recall: 0.8672 - val_loss: 0.0396 - val_binary_accuracy: 0.9892 - val_recall: 0.7955\n",
      "Epoch 148/200\n",
      "4/4 [==============================] - 0s 11ms/step - loss: 0.0200 - binary_accuracy: 0.9943 - recall: 0.9062 - val_loss: 0.0429 - val_binary_accuracy: 0.9876 - val_recall: 0.7386\n",
      "Epoch 149/200\n",
      "4/4 [==============================] - 0s 12ms/step - loss: 0.0210 - binary_accuracy: 0.9918 - recall: 0.8203 - val_loss: 0.0439 - val_binary_accuracy: 0.9897 - val_recall: 0.8182\n",
      "Epoch 150/200\n",
      "4/4 [==============================] - 0s 12ms/step - loss: 0.0191 - binary_accuracy: 0.9964 - recall: 0.9453 - val_loss: 0.0387 - val_binary_accuracy: 0.9902 - val_recall: 0.7841\n",
      "Epoch 151/200\n",
      "4/4 [==============================] - 0s 10ms/step - loss: 0.0228 - binary_accuracy: 0.9918 - recall: 0.8203 - val_loss: 0.0408 - val_binary_accuracy: 0.9902 - val_recall: 0.8068\n",
      "Epoch 152/200\n",
      "4/4 [==============================] - 0s 14ms/step - loss: 0.0181 - binary_accuracy: 0.9972 - recall: 0.9375 - val_loss: 0.0522 - val_binary_accuracy: 0.9871 - val_recall: 0.7500\n",
      "Epoch 153/200\n",
      "4/4 [==============================] - 0s 15ms/step - loss: 0.0227 - binary_accuracy: 0.9922 - recall: 0.8516 - val_loss: 0.0501 - val_binary_accuracy: 0.9881 - val_recall: 0.7614\n",
      "Epoch 154/200\n",
      "4/4 [==============================] - 0s 11ms/step - loss: 0.0213 - binary_accuracy: 0.9950 - recall: 0.8984 - val_loss: 0.0378 - val_binary_accuracy: 0.9912 - val_recall: 0.8182\n",
      "Epoch 155/200\n",
      "4/4 [==============================] - 0s 12ms/step - loss: 0.0259 - binary_accuracy: 0.9929 - recall: 0.8516 - val_loss: 0.0384 - val_binary_accuracy: 0.9886 - val_recall: 0.7614\n",
      "Epoch 156/200\n",
      "4/4 [==============================] - 0s 10ms/step - loss: 0.0252 - binary_accuracy: 0.9929 - recall: 0.8750 - val_loss: 0.0612 - val_binary_accuracy: 0.9799 - val_recall: 0.7273\n",
      "Epoch 157/200\n",
      "4/4 [==============================] - 0s 10ms/step - loss: 0.0219 - binary_accuracy: 0.9929 - recall: 0.8984 - val_loss: 0.0429 - val_binary_accuracy: 0.9881 - val_recall: 0.7727\n",
      "Epoch 158/200\n",
      "4/4 [==============================] - 0s 10ms/step - loss: 0.0214 - binary_accuracy: 0.9943 - recall: 0.8906 - val_loss: 0.0387 - val_binary_accuracy: 0.9902 - val_recall: 0.7841\n",
      "Epoch 159/200\n",
      "4/4 [==============================] - 0s 10ms/step - loss: 0.0188 - binary_accuracy: 0.9957 - recall: 0.9219 - val_loss: 0.0387 - val_binary_accuracy: 0.9907 - val_recall: 0.7955\n",
      "Epoch 160/200\n",
      "4/4 [==============================] - 0s 10ms/step - loss: 0.0166 - binary_accuracy: 0.9957 - recall: 0.9062 - val_loss: 0.0365 - val_binary_accuracy: 0.9917 - val_recall: 0.8295\n",
      "Epoch 161/200\n",
      "4/4 [==============================] - 0s 12ms/step - loss: 0.0178 - binary_accuracy: 0.9961 - recall: 0.9141 - val_loss: 0.0410 - val_binary_accuracy: 0.9886 - val_recall: 0.7841\n",
      "Epoch 162/200\n",
      "4/4 [==============================] - 0s 11ms/step - loss: 0.0177 - binary_accuracy: 0.9961 - recall: 0.9141 - val_loss: 0.0413 - val_binary_accuracy: 0.9907 - val_recall: 0.8068\n",
      "Epoch 163/200\n",
      "4/4 [==============================] - 0s 11ms/step - loss: 0.0160 - binary_accuracy: 0.9961 - recall: 0.9297 - val_loss: 0.0385 - val_binary_accuracy: 0.9902 - val_recall: 0.8068\n",
      "Epoch 164/200\n",
      "4/4 [==============================] - 0s 10ms/step - loss: 0.0157 - binary_accuracy: 0.9964 - recall: 0.9297 - val_loss: 0.0352 - val_binary_accuracy: 0.9912 - val_recall: 0.8182\n",
      "Epoch 165/200\n",
      "4/4 [==============================] - 0s 12ms/step - loss: 0.0201 - binary_accuracy: 0.9957 - recall: 0.9062 - val_loss: 0.0338 - val_binary_accuracy: 0.9907 - val_recall: 0.7955\n",
      "Epoch 166/200\n",
      "4/4 [==============================] - 0s 10ms/step - loss: 0.0169 - binary_accuracy: 0.9961 - recall: 0.9141 - val_loss: 0.0443 - val_binary_accuracy: 0.9886 - val_recall: 0.7727\n",
      "Epoch 167/200\n",
      "4/4 [==============================] - 0s 10ms/step - loss: 0.0157 - binary_accuracy: 0.9972 - recall: 0.9531 - val_loss: 0.0457 - val_binary_accuracy: 0.9892 - val_recall: 0.7727\n",
      "Epoch 168/200\n",
      "4/4 [==============================] - 0s 10ms/step - loss: 0.0139 - binary_accuracy: 0.9968 - recall: 0.9297 - val_loss: 0.0484 - val_binary_accuracy: 0.9881 - val_recall: 0.7614\n",
      "Epoch 169/200\n",
      "4/4 [==============================] - 0s 10ms/step - loss: 0.0152 - binary_accuracy: 0.9975 - recall: 0.9531 - val_loss: 0.0372 - val_binary_accuracy: 0.9923 - val_recall: 0.8295\n",
      "Epoch 170/200\n",
      "4/4 [==============================] - 0s 13ms/step - loss: 0.0169 - binary_accuracy: 0.9961 - recall: 0.9141 - val_loss: 0.0347 - val_binary_accuracy: 0.9902 - val_recall: 0.7841\n",
      "Epoch 171/200\n",
      "4/4 [==============================] - 0s 10ms/step - loss: 0.0150 - binary_accuracy: 0.9964 - recall: 0.9219 - val_loss: 0.0373 - val_binary_accuracy: 0.9907 - val_recall: 0.8068\n",
      "Epoch 172/200\n",
      "4/4 [==============================] - 0s 12ms/step - loss: 0.0149 - binary_accuracy: 0.9972 - recall: 0.9453 - val_loss: 0.0390 - val_binary_accuracy: 0.9917 - val_recall: 0.8295\n",
      "Epoch 173/200\n",
      "4/4 [==============================] - 0s 11ms/step - loss: 0.0129 - binary_accuracy: 0.9982 - recall: 0.9609 - val_loss: 0.0388 - val_binary_accuracy: 0.9902 - val_recall: 0.7955\n",
      "Epoch 174/200\n",
      "4/4 [==============================] - 0s 11ms/step - loss: 0.0135 - binary_accuracy: 0.9979 - recall: 0.9531 - val_loss: 0.0343 - val_binary_accuracy: 0.9917 - val_recall: 0.8295\n",
      "Epoch 175/200\n",
      "4/4 [==============================] - 0s 12ms/step - loss: 0.0133 - binary_accuracy: 0.9968 - recall: 0.9375 - val_loss: 0.0354 - val_binary_accuracy: 0.9902 - val_recall: 0.7955\n",
      "Epoch 176/200\n",
      "4/4 [==============================] - 0s 13ms/step - loss: 0.0120 - binary_accuracy: 0.9972 - recall: 0.9375 - val_loss: 0.0336 - val_binary_accuracy: 0.9928 - val_recall: 0.8523\n",
      "Epoch 177/200\n",
      "4/4 [==============================] - 0s 10ms/step - loss: 0.0140 - binary_accuracy: 0.9975 - recall: 0.9531 - val_loss: 0.0400 - val_binary_accuracy: 0.9912 - val_recall: 0.8182\n",
      "Epoch 178/200\n",
      "4/4 [==============================] - 0s 11ms/step - loss: 0.0119 - binary_accuracy: 0.9986 - recall: 0.9688 - val_loss: 0.0436 - val_binary_accuracy: 0.9897 - val_recall: 0.7955\n",
      "Epoch 179/200\n",
      "4/4 [==============================] - 0s 12ms/step - loss: 0.0136 - binary_accuracy: 0.9975 - recall: 0.9609 - val_loss: 0.0355 - val_binary_accuracy: 0.9917 - val_recall: 0.8295\n",
      "Epoch 180/200\n",
      "4/4 [==============================] - 0s 12ms/step - loss: 0.0115 - binary_accuracy: 0.9979 - recall: 0.9609 - val_loss: 0.0338 - val_binary_accuracy: 0.9902 - val_recall: 0.7955\n",
      "Epoch 181/200\n",
      "4/4 [==============================] - 0s 11ms/step - loss: 0.0119 - binary_accuracy: 0.9972 - recall: 0.9375 - val_loss: 0.0332 - val_binary_accuracy: 0.9907 - val_recall: 0.8068\n",
      "Epoch 182/200\n",
      "4/4 [==============================] - 0s 12ms/step - loss: 0.0144 - binary_accuracy: 0.9957 - recall: 0.9141 - val_loss: 0.0355 - val_binary_accuracy: 0.9907 - val_recall: 0.8182\n",
      "Epoch 183/200\n",
      "4/4 [==============================] - 0s 11ms/step - loss: 0.0143 - binary_accuracy: 0.9964 - recall: 0.9453 - val_loss: 0.0405 - val_binary_accuracy: 0.9897 - val_recall: 0.8068\n",
      "Epoch 184/200\n",
      "4/4 [==============================] - 0s 11ms/step - loss: 0.0129 - binary_accuracy: 0.9982 - recall: 0.9766 - val_loss: 0.0368 - val_binary_accuracy: 0.9923 - val_recall: 0.8409\n",
      "Epoch 185/200\n",
      "4/4 [==============================] - 0s 11ms/step - loss: 0.0122 - binary_accuracy: 0.9972 - recall: 0.9453 - val_loss: 0.0398 - val_binary_accuracy: 0.9892 - val_recall: 0.7841\n",
      "Epoch 186/200\n",
      "4/4 [==============================] - 0s 15ms/step - loss: 0.0114 - binary_accuracy: 0.9968 - recall: 0.9297 - val_loss: 0.0420 - val_binary_accuracy: 0.9902 - val_recall: 0.8182\n",
      "Epoch 187/200\n",
      "4/4 [==============================] - 0s 11ms/step - loss: 0.0112 - binary_accuracy: 0.9986 - recall: 0.9688 - val_loss: 0.0404 - val_binary_accuracy: 0.9912 - val_recall: 0.8182\n",
      "Epoch 188/200\n",
      "4/4 [==============================] - 0s 11ms/step - loss: 0.0124 - binary_accuracy: 0.9975 - recall: 0.9453 - val_loss: 0.0332 - val_binary_accuracy: 0.9923 - val_recall: 0.8523\n",
      "Epoch 189/200\n",
      "4/4 [==============================] - 0s 12ms/step - loss: 0.0128 - binary_accuracy: 0.9979 - recall: 0.9688 - val_loss: 0.0330 - val_binary_accuracy: 0.9897 - val_recall: 0.7841\n",
      "Epoch 190/200\n",
      "4/4 [==============================] - 0s 11ms/step - loss: 0.0132 - binary_accuracy: 0.9964 - recall: 0.9219 - val_loss: 0.0340 - val_binary_accuracy: 0.9917 - val_recall: 0.8295\n",
      "Epoch 191/200\n",
      "4/4 [==============================] - 0s 11ms/step - loss: 0.0116 - binary_accuracy: 0.9982 - recall: 0.9688 - val_loss: 0.0350 - val_binary_accuracy: 0.9923 - val_recall: 0.8409\n",
      "Epoch 192/200\n",
      "4/4 [==============================] - 0s 12ms/step - loss: 0.0107 - binary_accuracy: 0.9993 - recall: 0.9844 - val_loss: 0.0337 - val_binary_accuracy: 0.9912 - val_recall: 0.8295\n",
      "Epoch 193/200\n",
      "4/4 [==============================] - 0s 11ms/step - loss: 0.0132 - binary_accuracy: 0.9972 - recall: 0.9531 - val_loss: 0.0324 - val_binary_accuracy: 0.9923 - val_recall: 0.8409\n",
      "Epoch 194/200\n",
      "4/4 [==============================] - 0s 10ms/step - loss: 0.0112 - binary_accuracy: 0.9989 - recall: 0.9766 - val_loss: 0.0356 - val_binary_accuracy: 0.9912 - val_recall: 0.8182\n",
      "Epoch 195/200\n",
      "4/4 [==============================] - 0s 12ms/step - loss: 0.0120 - binary_accuracy: 0.9972 - recall: 0.9375 - val_loss: 0.0357 - val_binary_accuracy: 0.9917 - val_recall: 0.8409\n",
      "Epoch 196/200\n",
      "4/4 [==============================] - 0s 12ms/step - loss: 0.0128 - binary_accuracy: 0.9979 - recall: 0.9609 - val_loss: 0.0382 - val_binary_accuracy: 0.9907 - val_recall: 0.8295\n",
      "Epoch 197/200\n",
      "4/4 [==============================] - 0s 13ms/step - loss: 0.0101 - binary_accuracy: 0.9986 - recall: 0.9688 - val_loss: 0.0366 - val_binary_accuracy: 0.9907 - val_recall: 0.8182\n",
      "Epoch 198/200\n",
      "4/4 [==============================] - 0s 10ms/step - loss: 0.0096 - binary_accuracy: 0.9982 - recall: 0.9609 - val_loss: 0.0404 - val_binary_accuracy: 0.9897 - val_recall: 0.8068\n",
      "Epoch 199/200\n",
      "4/4 [==============================] - 0s 11ms/step - loss: 0.0126 - binary_accuracy: 0.9972 - recall: 0.9688 - val_loss: 0.0397 - val_binary_accuracy: 0.9897 - val_recall: 0.8068\n",
      "Epoch 200/200\n",
      "4/4 [==============================] - 0s 14ms/step - loss: 0.0102 - binary_accuracy: 0.9979 - recall: 0.9531 - val_loss: 0.0331 - val_binary_accuracy: 0.9923 - val_recall: 0.8409\n"
     ]
    },
    {
     "data": {
      "text/plain": [
       "<keras.callbacks.History at 0x7f2456d30430>"
      ]
     },
     "execution_count": 9,
     "metadata": {},
     "output_type": "execute_result"
    }
   ],
   "source": [
    "from model.nn import ANN\n",
    "\n",
    "ann = ANN(input_shape, num_class)\n",
    "ann.compile(loss='binary_crossentropy', optimizer='Adam', metrics=['binary_accuracy', tf.keras.metrics.Recall()])\n",
    "ann.summary()\n",
    "\n",
    "\n",
    "ann.fit(datagen, epochs=200, validation_data=dataset.get_test_data())\n",
    "# ann.fit(x=dataset.get_training_data(), \n",
    "#         y=dataset.get_binary_targets(), \n",
    "#         epochs=50, \n",
    "#         batch_size=32) #optimal"
   ]
  },
  {
   "cell_type": "markdown",
   "id": "c3437b45-1ea5-4a77-9d45-047906f85774",
   "metadata": {},
   "source": [
    "### AlexNet"
   ]
  },
  {
   "cell_type": "code",
   "execution_count": 10,
   "id": "72e256ea-274e-4cdc-a8ee-b7fd9a80292c",
   "metadata": {
    "tags": []
   },
   "outputs": [],
   "source": [
    "# from model.nn import AlexNet\n",
    "\n",
    "# alexnet = AlexNet(input_shape, num_class)\n",
    "# alexnet.compile(loss='binary_crossentropy', optimizer='adam', metrics=['binary_accuracy'])\n",
    "# alexnet.summary()\n",
    "\n",
    "# alexnet.fit(datagen, epochs=200)"
   ]
  },
  {
   "cell_type": "markdown",
   "id": "68eba455-2f21-4dcb-a85e-d934174188e4",
   "metadata": {},
   "source": [
    "### VGG16"
   ]
  },
  {
   "cell_type": "code",
   "execution_count": 11,
   "id": "c732354e-23fe-4e6d-a5ce-207b2ece9324",
   "metadata": {
    "tags": []
   },
   "outputs": [],
   "source": [
    "# from model.nn import VGG16\n",
    "\n",
    "# vgg16 = VGG16(input_shape, num_class)\n",
    "# vgg16.compile(loss='binary_crossentropy', optimizer='adam', metrics=['binary_accuracy'])\n",
    "# vgg16.summary()\n",
    "\n",
    "# vgg16.fit(datagen, epochs=200, validation_data=dataset.get_test_data())"
   ]
  },
  {
   "cell_type": "markdown",
   "id": "de24bfb4-0e67-4998-8390-c90ccd382195",
   "metadata": {},
   "source": [
    "### ResNet50"
   ]
  },
  {
   "cell_type": "code",
   "execution_count": 12,
   "id": "4e4177a7-494e-4c2d-9305-e12d44420c57",
   "metadata": {
    "tags": []
   },
   "outputs": [],
   "source": [
    "# from model.nn import ResNet50\n",
    "\n",
    "# resnet = ResNet50(input_shape, num_class)\n",
    "# resnet.compile(loss='binary_crossentropy', optimizer='adam', metrics=['binary_accuracy'])\n",
    "# resnet.summary()\n",
    "\n",
    "# resnet.fit(datagen, epochs=20, validation_data=dataset.get_test_data())"
   ]
  },
  {
   "cell_type": "markdown",
   "id": "8a2e75fc-1c85-4de3-9281-c42f16212ed3",
   "metadata": {},
   "source": [
    "### DenseNet"
   ]
  },
  {
   "cell_type": "code",
   "execution_count": 13,
   "id": "510c7cd0-0524-4005-86af-4f39b1ada59e",
   "metadata": {
    "tags": []
   },
   "outputs": [],
   "source": [
    "# from model.nn import DenseNet\n",
    "\n",
    "# densenet = DenseNet(input_shape, num_class)\n",
    "# densenet.compile(loss='binary_crossentropy', optimizer='adam', metrics=['binary_accuracy'])\n",
    "# densenet.summary()\n",
    "\n",
    "# densenet.fit(datagen, epochs=20, validation_data=dataset.get_test_data())"
   ]
  },
  {
   "cell_type": "markdown",
   "id": "e8f9a80d-ddfa-4216-9155-ddfd6fef36f2",
   "metadata": {},
   "source": [
    "### LSTM"
   ]
  },
  {
   "cell_type": "code",
   "execution_count": 14,
   "id": "e5199420-a247-44c7-97ab-a96d45bebb35",
   "metadata": {},
   "outputs": [],
   "source": [
    "# X_test, y_test = dataset.get_test_data()\n",
    "# X_test = split2feat(X_test, n_features)"
   ]
  },
  {
   "cell_type": "code",
   "execution_count": 15,
   "id": "df6846bb-8a6f-4bad-97fa-7a18ebec4d09",
   "metadata": {},
   "outputs": [],
   "source": [
    "# from model.rnn import VanLSTM\n",
    "\n",
    "# lstm = VanLSTM(input_shape_rnn, num_class)\n",
    "# lstm.compile(loss='binary_crossentropy', optimizer='adam', metrics=['binary_accuracy'])\n",
    "# lstm.summary()\n",
    "\n",
    "# lstm.fit(datagen_rnn, epochs=20, validation_data=(X_test,y_test))"
   ]
  },
  {
   "cell_type": "markdown",
   "id": "c63150c1-06ef-4041-929e-622534b7afca",
   "metadata": {},
   "source": [
    "## Test"
   ]
  },
  {
   "cell_type": "code",
   "execution_count": 16,
   "id": "95999d80-1bef-4625-8ccc-caaefee05395",
   "metadata": {},
   "outputs": [],
   "source": [
    "from utils import multilabel_classification_report"
   ]
  },
  {
   "cell_type": "code",
   "execution_count": 17,
   "id": "f8c7b7cb-df4c-4b89-b6c1-9080e11aaf8c",
   "metadata": {},
   "outputs": [
    {
     "name": "stdout",
     "output_type": "stream",
     "text": [
      "3/3 [==============================] - 0s 2ms/step\n",
      "3/3 [==============================] - 0s 2ms/step - loss: 0.0331 - binary_accuracy: 0.9923 - recall: 0.8409\n",
      "74 88\n",
      "            precision     recall   f1-score    support\n",
      "Acrylic          1.00       0.75       0.86          4\n",
      "ENR              1.00       1.00       1.00          4\n",
      "EPDM             1.00       1.00       1.00          4\n",
      "HDPE             1.00       1.00       1.00          4\n",
      "LDPE             1.00       0.50       0.67          4\n",
      "Nylon            1.00       1.00       1.00          4\n",
      "PBAT             1.00       1.00       1.00          4\n",
      "PBS              1.00       1.00       1.00          4\n",
      "PC               1.00       1.00       1.00          4\n",
      "PEEK             1.00       0.75       0.86          4\n",
      "PEI              1.00       0.75       0.86          4\n",
      "PET              1.00       0.50       0.67          4\n",
      "PLA              1.00       1.00       1.00          4\n",
      "PMMA             1.00       1.00       1.00          4\n",
      "POM              1.00       0.25       0.40          4\n",
      "PP               1.00       0.50       0.67          4\n",
      "PS               0.80       1.00       0.89          4\n",
      "PTEE             1.00       1.00       1.00          4\n",
      "PU               1.00       1.00       1.00          4\n",
      "PVA              1.00       1.00       1.00          4\n",
      "PVC              1.00       0.75       0.86          4\n",
      "cellulose        1.00       0.75       0.86          4\n",
      "\n",
      "macro avg        0.99       0.84       0.89         88\n"
     ]
    }
   ],
   "source": [
    "multilabel_classification_report(dataset, ann)"
   ]
  },
  {
   "cell_type": "code",
   "execution_count": 18,
   "id": "9c646c56-8d72-41c5-a7a7-25c9923bbf7e",
   "metadata": {},
   "outputs": [],
   "source": [
    "# multilabel_classification_report(dataset, alexnet)"
   ]
  },
  {
   "cell_type": "code",
   "execution_count": 19,
   "id": "a7fed8e5-8b0e-4a29-872a-654c7d31588c",
   "metadata": {},
   "outputs": [],
   "source": [
    "# multilabel_classification_report(dataset, vgg16)"
   ]
  },
  {
   "cell_type": "code",
   "execution_count": 20,
   "id": "8ffb1036-b421-4826-93a9-0266bf3db987",
   "metadata": {},
   "outputs": [],
   "source": [
    "# multilabel_classification_report(dataset, resnet)"
   ]
  },
  {
   "cell_type": "code",
   "execution_count": 21,
   "id": "26486cac-581f-41d8-bb0b-f96a71f4bd5c",
   "metadata": {},
   "outputs": [],
   "source": [
    "# multilabel_classification_report(dataset, densenet)"
   ]
  },
  {
   "cell_type": "code",
   "execution_count": 22,
   "id": "88ebcb7f-f8f7-4606-8938-790269cfd472",
   "metadata": {},
   "outputs": [],
   "source": [
    "# multilabel_classification_report(dataset, lstm, n_features)"
   ]
  },
  {
   "cell_type": "markdown",
   "id": "71f1cdf4-d72f-48b7-8f91-cab69174f8cd",
   "metadata": {},
   "source": [
    "## Predict Unknown Spectra"
   ]
  },
  {
   "cell_type": "code",
   "execution_count": 23,
   "id": "5dd10828-a576-4a1f-98b3-f7074823fea0",
   "metadata": {},
   "outputs": [],
   "source": [
    "from model.dataset import UnknownSpectraDataset"
   ]
  },
  {
   "cell_type": "code",
   "execution_count": 24,
   "id": "9200dfa3-16f1-46cf-85d4-017d51ba2e91",
   "metadata": {},
   "outputs": [
    {
     "data": {
      "text/plain": [
       "array(['Acrylic', 'ENR', 'EPDM', 'HDPE', 'LDPE', 'Nylon', 'PBAT', 'PBS',\n",
       "       'PC', 'PEEK', 'PEI', 'PET', 'PLA', 'PMMA', 'POM', 'PP', 'PS',\n",
       "       'PTEE', 'PU', 'PVA', 'PVC', 'cellulose'], dtype='<U9')"
      ]
     },
     "execution_count": 24,
     "metadata": {},
     "output_type": "execute_result"
    }
   ],
   "source": [
    "dataset.class_name"
   ]
  },
  {
   "cell_type": "code",
   "execution_count": 25,
   "id": "64a8ae37-ecef-4f94-9b7b-a83566a653b4",
   "metadata": {
    "tags": []
   },
   "outputs": [
    {
     "name": "stdout",
     "output_type": "stream",
     "text": [
      "Reading unknown data\n",
      "Read 320 spectra for predicting.\n",
      "No. of data points/shifts per spectra (input shape) : (1792,)\n"
     ]
    }
   ],
   "source": [
    "unknown_dataset = UnknownSpectraDataset(data_dir)"
   ]
  },
  {
   "cell_type": "code",
   "execution_count": 26,
   "id": "b88002b1-e762-4074-8148-782f40e17e6c",
   "metadata": {},
   "outputs": [],
   "source": [
    "def predict_unknown_spectra(model, unknown_dataset, class_name):\n",
    "    pred = model.predict(unknown_dataset.train_data)\n",
    "    pred_bin = pred>=0.5\n",
    "    res = []\n",
    "    for p in pred_bin:\n",
    "        res.append(class_name[p])\n",
    "    return pred, pred_bin, res"
   ]
  },
  {
   "cell_type": "code",
   "execution_count": 27,
   "id": "bcfd614b-57d6-4b07-b811-c3ffdaac351e",
   "metadata": {},
   "outputs": [
    {
     "name": "stdout",
     "output_type": "stream",
     "text": [
      "10/10 [==============================] - 0s 1ms/step\n"
     ]
    }
   ],
   "source": [
    "pred, pred_bin, res = predict_unknown_spectra(ann, unknown_dataset, dataset.class_name)"
   ]
  },
  {
   "cell_type": "code",
   "execution_count": 29,
   "id": "5d18cbac-bd73-4b69-8c72-5d0b857d68d1",
   "metadata": {},
   "outputs": [
    {
     "name": "stdout",
     "output_type": "stream",
     "text": [
      "1 mm-EFF2F-SB_1.csv      , ['PBS']\n",
      "1 mm-EFF2F-SB_10.csv     , ['Acrylic']\n",
      "1 mm-EFF2F-SB_4.csv      , ['Acrylic' 'PP' 'PVC']\n",
      "1 mm-EFF2F-SB_5.csv      , ['PVC']\n",
      "1 mm-EFF2F-SB_6.csv      , ['PVC']\n",
      "1 mm-EFF2F-SB_7.csv      , ['PVC']\n",
      "1 mm-EFF2F-SB_8.csv      , ['Acrylic' 'PVC']\n",
      "1mm-1NF1G-SB_3.csv       , ['PET']\n",
      "1mm-1NF1G-SB_4.csv       , ['PLA']\n",
      "1mm-1NF1G-SB_5.csv       , ['PVC']\n",
      "1mm-1NF1G-SB_6.csv       , ['PLA']\n",
      "1mm-1NF1G-SB_7.csv       , ['PLA']\n",
      "1mm-1NF1G-SB_8.csv       , ['PTEE']\n",
      "1mm-1NF2F-SB_7.csv       , ['PVC']\n",
      "1mm-B1-SB_8.csv          , ['PBS']\n",
      "1mm-B2-SB_1.csv          , ['PLA']\n",
      "1mm-B2-SB_13.csv         , ['PLA']\n",
      "1mm-B2-SB_15.csv         , ['PBS']\n",
      "1mm-B2-SB_16.csv         , ['PLA' 'PTEE']\n",
      "1mm-B2-SB_17.csv         , ['PLA']\n",
      "1mm-B2-SB_18.csv         , ['PLA']\n",
      "1mm-B2-SB_19.csv         , ['PLA' 'PTEE']\n",
      "1mm-B2-SB_2.csv          , ['PLA']\n",
      "1mm-B2-SB_20.csv         , ['PLA']\n",
      "1mm-B2-SB_22.csv         , ['PLA']\n",
      "1mm-B2-SB_23.csv         , ['PLA']\n",
      "1mm-B2-SB_25.csv         , ['PLA']\n",
      "1mm-B2-SB_26.csv         , ['PLA' 'PTEE']\n",
      "1mm-B2-SB_27.csv         , ['PLA' 'PTEE']\n",
      "1mm-B2-SB_28.csv         , ['PLA' 'PTEE']\n",
      "1mm-B2-SB_29.csv         , ['PTEE']\n",
      "1mm-B2-SB_3.csv          , ['PLA']\n",
      "1mm-B2-SB_30.csv         , ['PTEE']\n",
      "1mm-B2-SB_4.csv          , ['PLA']\n",
      "1mm-B2-SB_5.csv          , ['PLA']\n",
      "1mm-B2-SB_6.csv          , ['PLA' 'PTEE']\n",
      "1mm-B2-SB_7.csv          , ['PLA' 'PTEE']\n",
      "1mm-B2-SB_8.csv          , ['PLA' 'PTEE']\n",
      "1mm-B3-SB_10.csv         , ['PLA']\n",
      "1mm-B3-SB_18.csv         , ['PLA']\n",
      "1mm-B3-SB_3.csv          , ['PLA']\n",
      "1mm-B3-SB_7.csv          , ['PLA']\n",
      "1mm-B3-SB_8.csv          , ['PLA']\n",
      "1mm-EFF1G-SB_2.csv       , ['PLA']\n",
      "1mm-EFF2G-SB_1.csv       , ['PBS']\n",
      "1mm-EFF2G-SB_10.csv      , ['PBS']\n",
      "1mm-EFF2G-SB_2.csv       , ['PTEE']\n",
      "1mm-EFF2G-SB_3.csv       , ['PBS']\n",
      "1mm-EFF2G-SB_5.csv       , ['PBS']\n",
      "1mm-EFF2G-SB_6.csv       , ['PTEE']\n",
      "1mm-EFF2G-SB_7.csv       , ['PBS']\n",
      "1mm-EFF2G-SB_8.csv       , ['PBS']\n",
      "1mm-EFF2G-SB_9.csv       , ['PBS' 'PC']\n",
      "1mm-EFF3F-SB_2.csv       , ['PBS']\n",
      "1mm-EFF3F-SB_7.csv       , ['PTEE']\n",
      "1mm-EFF3F-SB_9.csv       , ['PVC']\n",
      "1mm-EFF3G-SB_1.csv       , ['PLA']\n",
      "1mm-EFF3G-SB_10.csv      , ['PLA']\n",
      "1mm-EFF3G-SB_13.csv      , ['PLA']\n",
      "1mm-EFF3G-SB_17.csv      , ['PLA']\n",
      "1mm-EFF3G-SB_2.csv       , ['PLA']\n",
      "1mm-EFF3G-SB_21.csv      , ['PVC']\n",
      "1mm-EFF3G-SB_23.csv      , ['PLA']\n",
      "1mm-EFF3G-SB_24.csv      , ['PLA']\n",
      "1mm-EFF3G-SB_26.csv      , ['PLA']\n",
      "1mm-EFF3G-SB_27.csv      , ['PLA']\n",
      "1mm-EFF3G-SB_29.csv      , ['PVC']\n",
      "1mm-EFF3G-SB_3.csv       , ['PLA']\n",
      "1mm-EFF3G-SB_30.csv      , ['PVC']\n",
      "1mm-EFF3G-SB_4.csv       , ['PLA']\n",
      "1mm-EFF3G-SB_6.csv       , ['PLA']\n",
      "1mm-EFF3G-SB_7.csv       , ['PLA']\n",
      "1mm-EFF3G-SB_8.csv       , ['PLA']\n",
      "1mm-INF1F-SB_10.csv      , ['PVC']\n",
      "1mm-INF1F-SB_9.csv       , ['PVC']\n",
      "1mm-INF3G-SB_10.csv      , ['PBS']\n",
      "1mm-INF3G-SB_7.csv       , ['PVC']\n",
      "1mm-INF3G-SB_9.csv       , ['PBS']\n",
      "500um-B2-SB_1.csv        , ['PBS']\n",
      "500um-B2-SB_2.csv        , ['PLA']\n",
      "500um-B2-SB_3.csv        , ['PLA']\n",
      "500um-B2-SB_6.csv        , ['cellulose']\n",
      "500um-B2-SB_7.csv        , ['cellulose']\n",
      "500um-B3-SB_1.csv        , ['PVC']\n",
      "500um-INF2F-SB_7.csv     , ['PLA']\n",
      "500um-INF3F-SB_1.csv     , ['PLA']\n",
      "500um-INF3F-SB_3.csv     , ['PLA']\n",
      "500um-INF3F-SB_5.csv     , ['PLA']\n",
      "uFTIR-EFF2-SB_1.csv      , ['PLA']\n",
      "uFTIR-EFF2-SB_16.csv     , ['PVC']\n",
      "uFTIR-EFF2-SB_18.csv     , ['PVC']\n",
      "uFTIR-EFF2-SB_20.csv     , ['PVC']\n",
      "uFTIR-EFF2-SB_21.csv     , ['PVC']\n",
      "uFTIR-EFF2-SB_22.csv     , ['PVC']\n",
      "uFTIR-EFF2-SB_23.csv     , ['PVC']\n",
      "uFTIR-EFF2-SB_25.csv     , ['PVC']\n",
      "uFTIR-EFF2-SB_26.csv     , ['Acrylic' 'PP' 'PVC']\n",
      "uFTIR-EFF2-SB_27.csv     , ['PP']\n",
      "uFTIR-EFF2-SB_28.csv     , ['PVC']\n",
      "uFTIR-EFF2-SB_29.csv     , ['PVC']\n",
      "uFTIR-EFF2-SB_30.csv     , ['Acrylic' 'PVC']\n",
      "uFTIR-INF2-SB_10.csv     , ['PLA']\n",
      "uFTIR-INF2-SB_11.csv     , ['PLA']\n",
      "uFTIR-INF2-SB_12.csv     , ['PVC']\n",
      "uFTIR-INF2-SB_13.csv     , ['PLA']\n",
      "uFTIR-INF2-SB_15.csv     , ['PLA' 'PTEE']\n",
      "uFTIR-INF2-SB_16.csv     , ['PLA' 'PTEE']\n",
      "uFTIR-INF2-SB_18.csv     , ['PLA']\n",
      "uFTIR-INF2-SB_21.csv     , ['PVC']\n",
      "uFTIR-INF2-SB_22.csv     , ['PLA' 'PTEE']\n",
      "uFTIR-INF2-SB_23.csv     , ['PLA']\n",
      "uFTIR-INF2-SB_25.csv     , ['PLA' 'PVC']\n",
      "uFTIR-INF2-SB_26.csv     , ['PVC']\n",
      "uFTIR-INF2-SB_27.csv     , ['PVC']\n",
      "uFTIR-INF2-SB_28.csv     , ['PVC']\n",
      "uFTIR-INF2-SB_29.csv     , ['PVC']\n",
      "uFTIR-INF2-SB_3.csv      , ['PVC']\n",
      "uFTIR-INF2-SB_30.csv     , ['PTEE']\n",
      "uFTIR-INF2-SB_4.csv      , ['cellulose']\n",
      "uFTIR-INF2-SB_5.csv      , ['PVC']\n",
      "uFTIR-INF2-SB_6.csv      , ['PVC']\n",
      "uFTIR-INF2-SB_7.csv      , ['PLA']\n",
      "uFTIR-INF2-SB_8.csv      , ['PLA']\n",
      "uFTIR-INF2-SB_9.csv      , ['PLA']\n"
     ]
    }
   ],
   "source": [
    "for n, t in sorted(zip(unknown_dataset.fl, res)):\n",
    "    if len(t) > 0:\n",
    "        print(f\"{os.path.basename(n):25s}, {t}\")"
   ]
  },
  {
   "cell_type": "code",
   "execution_count": 30,
   "id": "6303c1de-1540-4564-ab29-729ab6c817f6",
   "metadata": {
    "tags": []
   },
   "outputs": [
    {
     "name": "stdout",
     "output_type": "stream",
     "text": [
      "Acrylic   : 5\n",
      "ENR       : 0\n",
      "EPDM      : 0\n",
      "HDPE      : 0\n",
      "LDPE      : 0\n",
      "Nylon     : 0\n",
      "PBAT      : 0\n",
      "PBS       : 14\n",
      "PC        : 1\n",
      "PEEK      : 0\n",
      "PEI       : 0\n",
      "PET       : 1\n",
      "PLA       : 62\n",
      "PMMA      : 0\n",
      "POM       : 0\n",
      "PP        : 3\n",
      "PS        : 0\n",
      "PTEE      : 18\n",
      "PU        : 0\n",
      "PVA       : 0\n",
      "PVC       : 36\n",
      "cellulose : 3\n"
     ]
    }
   ],
   "source": [
    "for t, n in zip(dataset.class_name, pred_bin.sum(axis=0)):\n",
    "    print(f\"{t:10s}: {n}\")"
   ]
  },
  {
   "cell_type": "code",
   "execution_count": null,
   "id": "b7993dac-a398-47d9-98e6-295f06a1b988",
   "metadata": {},
   "outputs": [],
   "source": []
  }
 ],
 "metadata": {
  "kernelspec": {
   "display_name": "simclrv2",
   "language": "python",
   "name": "simclrv2"
  },
  "language_info": {
   "codemirror_mode": {
    "name": "ipython",
    "version": 3
   },
   "file_extension": ".py",
   "mimetype": "text/x-python",
   "name": "python",
   "nbconvert_exporter": "python",
   "pygments_lexer": "ipython3",
   "version": "3.10.6"
  }
 },
 "nbformat": 4,
 "nbformat_minor": 5
}
