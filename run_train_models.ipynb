{
 "cells": [
  {
   "cell_type": "markdown",
   "id": "abc7844a-46ec-4ef7-9b5e-2dbc6646e651",
   "metadata": {},
   "source": [
    "# Train CNN Models"
   ]
  },
  {
   "cell_type": "code",
   "execution_count": 1,
   "id": "9c942262-f2bf-48a3-a374-0c68bc287a57",
   "metadata": {},
   "outputs": [
    {
     "name": "stderr",
     "output_type": "stream",
     "text": [
      "2022-12-28 16:37:00.839279: I tensorflow/stream_executor/platform/default/dso_loader.cc:49] Successfully opened dynamic library libcudart.so.10.1\n"
     ]
    }
   ],
   "source": [
    "%load_ext autoreload\n",
    "%autoreload 2\n",
    "\n",
    "import numpy as np\n",
    "\n",
    "import tensorflow as tf\n",
    "\n",
    "from model.dataset import SpectraDataset, DataGenerator, DataGeneratorRNN, split2feat"
   ]
  },
  {
   "cell_type": "markdown",
   "id": "1879b3d1-d4a1-469b-8ede-efd8d55a3b76",
   "metadata": {},
   "source": [
    "## Prepare Dataset"
   ]
  },
  {
   "cell_type": "code",
   "execution_count": 2,
   "id": "a002cb1a-9c12-4a2a-81c1-0f2550fad323",
   "metadata": {},
   "outputs": [
    {
     "name": "stdout",
     "output_type": "stream",
     "text": [
      "Reading train data\n",
      "No. of materials : 22\n",
      "[['Acrylic' '6']\n",
      " ['ENR' '6']\n",
      " ['EPDM' '6']\n",
      " ['HDPE' '6']\n",
      " ['LDPE' '6']\n",
      " ['Nylon' '6']\n",
      " ['PBAT' '6']\n",
      " ['PBS' '6']\n",
      " ['PC' '6']\n",
      " ['PEEK' '6']\n",
      " ['PEI' '6']\n",
      " ['PET' '6']\n",
      " ['PLA' '6']\n",
      " ['PMMA' '6']\n",
      " ['POM' '6']\n",
      " ['PP' '6']\n",
      " ['PS' '6']\n",
      " ['PTEE' '6']\n",
      " ['PU' '6']\n",
      " ['PVA' '6']\n",
      " ['PVC' '6']\n",
      " ['cellulose' '6']]\n",
      "Read 132 spectra for training.\n",
      "No. of data points/shifts per spectra (input shape) : (1802,)\n",
      "No. of classes : 22\n",
      "Reading test data\n",
      "Read 88 spectra for testing.\n"
     ]
    }
   ],
   "source": [
    "data_dir = 'data'\n",
    "dataset = SpectraDataset(data_dir)"
   ]
  },
  {
   "cell_type": "code",
   "execution_count": 3,
   "id": "8b8546a9-897b-4353-a487-a50bed1bab91",
   "metadata": {},
   "outputs": [
    {
     "data": {
      "text/plain": [
       "(132, 22)"
      ]
     },
     "execution_count": 3,
     "metadata": {},
     "output_type": "execute_result"
    }
   ],
   "source": [
    "dataset.get_binary_targets().shape"
   ]
  },
  {
   "cell_type": "code",
   "execution_count": 4,
   "id": "ef5f114a-3a63-4c49-aad9-5682f35b2b8c",
   "metadata": {},
   "outputs": [
    {
     "data": {
      "text/plain": [
       "(132, 1802)"
      ]
     },
     "execution_count": 4,
     "metadata": {},
     "output_type": "execute_result"
    }
   ],
   "source": [
    "dataset.get_training_data().shape"
   ]
  },
  {
   "cell_type": "code",
   "execution_count": 5,
   "id": "258ea9bd-91bc-4b3a-ae6f-4ce9b35763f9",
   "metadata": {},
   "outputs": [],
   "source": [
    "datagen = DataGenerator(dataset)"
   ]
  },
  {
   "cell_type": "code",
   "execution_count": 6,
   "id": "d22203fe-afd9-420c-a13d-75300b14ea75",
   "metadata": {},
   "outputs": [],
   "source": [
    "n_features = 24\n",
    "datagen_rnn = DataGeneratorRNN(dataset, n_features=n_features)"
   ]
  },
  {
   "cell_type": "code",
   "execution_count": 7,
   "id": "06ce4aa7-aae3-4271-b083-3dd0bd94cc9c",
   "metadata": {},
   "outputs": [
    {
     "data": {
      "text/plain": [
       "(132, 76, 24)"
      ]
     },
     "execution_count": 7,
     "metadata": {},
     "output_type": "execute_result"
    }
   ],
   "source": [
    "datagen_rnn.data_shape"
   ]
  },
  {
   "cell_type": "markdown",
   "id": "2c55199b-165a-449f-a29b-a09cac60ef69",
   "metadata": {},
   "source": [
    "## Train"
   ]
  },
  {
   "cell_type": "code",
   "execution_count": 8,
   "id": "0cd73240-2960-4469-8fa8-022fc7a0a90d",
   "metadata": {},
   "outputs": [],
   "source": [
    "input_shape = dataset.get_input_shape()\n",
    "num_class = dataset.get_num_class()\n",
    "\n",
    "input_shape_rnn = datagen_rnn.data_shape"
   ]
  },
  {
   "cell_type": "markdown",
   "id": "3d4fc06a-2944-4098-806d-68b225ea10be",
   "metadata": {},
   "source": [
    "### ANN"
   ]
  },
  {
   "cell_type": "code",
   "execution_count": 9,
   "id": "b4cce87f-3d4d-4f5f-a18e-cd589c568aa6",
   "metadata": {
    "tags": []
   },
   "outputs": [
    {
     "name": "stderr",
     "output_type": "stream",
     "text": [
      "2022-12-28 16:37:03.617054: I tensorflow/compiler/jit/xla_cpu_device.cc:41] Not creating XLA devices, tf_xla_enable_xla_devices not set\n",
      "2022-12-28 16:37:03.617651: I tensorflow/stream_executor/platform/default/dso_loader.cc:49] Successfully opened dynamic library libcuda.so.1\n",
      "2022-12-28 16:37:03.651242: I tensorflow/stream_executor/cuda/cuda_gpu_executor.cc:941] successful NUMA node read from SysFS had negative value (-1), but there must be at least one NUMA node, so returning NUMA node zero\n",
      "2022-12-28 16:37:03.651698: I tensorflow/core/common_runtime/gpu/gpu_device.cc:1720] Found device 0 with properties: \n",
      "pciBusID: 0000:0a:00.0 name: NVIDIA GeForce RTX 2070 computeCapability: 7.5\n",
      "coreClock: 1.725GHz coreCount: 36 deviceMemorySize: 7.79GiB deviceMemoryBandwidth: 417.29GiB/s\n",
      "2022-12-28 16:37:03.651713: I tensorflow/stream_executor/platform/default/dso_loader.cc:49] Successfully opened dynamic library libcudart.so.10.1\n",
      "2022-12-28 16:37:03.652710: I tensorflow/stream_executor/platform/default/dso_loader.cc:49] Successfully opened dynamic library libcublas.so.10\n",
      "2022-12-28 16:37:03.652739: I tensorflow/stream_executor/platform/default/dso_loader.cc:49] Successfully opened dynamic library libcublasLt.so.10\n",
      "2022-12-28 16:37:03.653890: I tensorflow/stream_executor/platform/default/dso_loader.cc:49] Successfully opened dynamic library libcufft.so.10\n",
      "2022-12-28 16:37:03.654127: I tensorflow/stream_executor/platform/default/dso_loader.cc:49] Successfully opened dynamic library libcurand.so.10\n",
      "2022-12-28 16:37:03.655267: I tensorflow/stream_executor/platform/default/dso_loader.cc:49] Successfully opened dynamic library libcusolver.so.10\n",
      "2022-12-28 16:37:03.655958: I tensorflow/stream_executor/platform/default/dso_loader.cc:49] Successfully opened dynamic library libcusparse.so.10\n",
      "2022-12-28 16:37:03.658654: I tensorflow/stream_executor/platform/default/dso_loader.cc:49] Successfully opened dynamic library libcudnn.so.7\n",
      "2022-12-28 16:37:03.658850: I tensorflow/stream_executor/cuda/cuda_gpu_executor.cc:941] successful NUMA node read from SysFS had negative value (-1), but there must be at least one NUMA node, so returning NUMA node zero\n",
      "2022-12-28 16:37:03.659336: I tensorflow/stream_executor/cuda/cuda_gpu_executor.cc:941] successful NUMA node read from SysFS had negative value (-1), but there must be at least one NUMA node, so returning NUMA node zero\n",
      "2022-12-28 16:37:03.659742: I tensorflow/core/common_runtime/gpu/gpu_device.cc:1862] Adding visible gpu devices: 0\n",
      "2022-12-28 16:37:03.660238: I tensorflow/core/platform/cpu_feature_guard.cc:142] This TensorFlow binary is optimized with oneAPI Deep Neural Network Library (oneDNN) to use the following CPU instructions in performance-critical operations:  SSE4.1 SSE4.2 AVX AVX2 FMA\n",
      "To enable them in other operations, rebuild TensorFlow with the appropriate compiler flags.\n",
      "2022-12-28 16:37:03.660880: I tensorflow/compiler/jit/xla_gpu_device.cc:99] Not creating XLA devices, tf_xla_enable_xla_devices not set\n",
      "2022-12-28 16:37:03.660994: I tensorflow/stream_executor/cuda/cuda_gpu_executor.cc:941] successful NUMA node read from SysFS had negative value (-1), but there must be at least one NUMA node, so returning NUMA node zero\n",
      "2022-12-28 16:37:03.661464: I tensorflow/core/common_runtime/gpu/gpu_device.cc:1720] Found device 0 with properties: \n",
      "pciBusID: 0000:0a:00.0 name: NVIDIA GeForce RTX 2070 computeCapability: 7.5\n",
      "coreClock: 1.725GHz coreCount: 36 deviceMemorySize: 7.79GiB deviceMemoryBandwidth: 417.29GiB/s\n",
      "2022-12-28 16:37:03.661489: I tensorflow/stream_executor/platform/default/dso_loader.cc:49] Successfully opened dynamic library libcudart.so.10.1\n",
      "2022-12-28 16:37:03.661512: I tensorflow/stream_executor/platform/default/dso_loader.cc:49] Successfully opened dynamic library libcublas.so.10\n",
      "2022-12-28 16:37:03.661522: I tensorflow/stream_executor/platform/default/dso_loader.cc:49] Successfully opened dynamic library libcublasLt.so.10\n",
      "2022-12-28 16:37:03.661532: I tensorflow/stream_executor/platform/default/dso_loader.cc:49] Successfully opened dynamic library libcufft.so.10\n",
      "2022-12-28 16:37:03.661541: I tensorflow/stream_executor/platform/default/dso_loader.cc:49] Successfully opened dynamic library libcurand.so.10\n",
      "2022-12-28 16:37:03.661550: I tensorflow/stream_executor/platform/default/dso_loader.cc:49] Successfully opened dynamic library libcusolver.so.10\n",
      "2022-12-28 16:37:03.661560: I tensorflow/stream_executor/platform/default/dso_loader.cc:49] Successfully opened dynamic library libcusparse.so.10\n",
      "2022-12-28 16:37:03.661569: I tensorflow/stream_executor/platform/default/dso_loader.cc:49] Successfully opened dynamic library libcudnn.so.7\n",
      "2022-12-28 16:37:03.661621: I tensorflow/stream_executor/cuda/cuda_gpu_executor.cc:941] successful NUMA node read from SysFS had negative value (-1), but there must be at least one NUMA node, so returning NUMA node zero\n",
      "2022-12-28 16:37:03.662086: I tensorflow/stream_executor/cuda/cuda_gpu_executor.cc:941] successful NUMA node read from SysFS had negative value (-1), but there must be at least one NUMA node, so returning NUMA node zero\n",
      "2022-12-28 16:37:03.662646: I tensorflow/core/common_runtime/gpu/gpu_device.cc:1862] Adding visible gpu devices: 0\n",
      "2022-12-28 16:37:03.662670: I tensorflow/stream_executor/platform/default/dso_loader.cc:49] Successfully opened dynamic library libcudart.so.10.1\n",
      "2022-12-28 16:37:04.100101: I tensorflow/core/common_runtime/gpu/gpu_device.cc:1261] Device interconnect StreamExecutor with strength 1 edge matrix:\n",
      "2022-12-28 16:37:04.100132: I tensorflow/core/common_runtime/gpu/gpu_device.cc:1267]      0 \n",
      "2022-12-28 16:37:04.100137: I tensorflow/core/common_runtime/gpu/gpu_device.cc:1280] 0:   N \n",
      "2022-12-28 16:37:04.100375: I tensorflow/stream_executor/cuda/cuda_gpu_executor.cc:941] successful NUMA node read from SysFS had negative value (-1), but there must be at least one NUMA node, so returning NUMA node zero\n",
      "2022-12-28 16:37:04.100830: I tensorflow/stream_executor/cuda/cuda_gpu_executor.cc:941] successful NUMA node read from SysFS had negative value (-1), but there must be at least one NUMA node, so returning NUMA node zero\n",
      "2022-12-28 16:37:04.101251: I tensorflow/stream_executor/cuda/cuda_gpu_executor.cc:941] successful NUMA node read from SysFS had negative value (-1), but there must be at least one NUMA node, so returning NUMA node zero\n",
      "2022-12-28 16:37:04.101642: I tensorflow/core/common_runtime/gpu/gpu_device.cc:1406] Created TensorFlow device (/job:localhost/replica:0/task:0/device:GPU:0 with 7060 MB memory) -> physical GPU (device: 0, name: NVIDIA GeForce RTX 2070, pci bus id: 0000:0a:00.0, compute capability: 7.5)\n",
      "2022-12-28 16:37:04.219494: I tensorflow/compiler/mlir/mlir_graph_optimization_pass.cc:116] None of the MLIR optimization passes are enabled (registered 2)\n",
      "2022-12-28 16:37:04.238014: I tensorflow/core/platform/profile_utils/cpu_utils.cc:112] CPU Frequency: 3692650000 Hz\n"
     ]
    },
    {
     "name": "stdout",
     "output_type": "stream",
     "text": [
      "Model: \"model\"\n",
      "_________________________________________________________________\n",
      "Layer (type)                 Output Shape              Param #   \n",
      "=================================================================\n",
      "input_1 (InputLayer)         [(None, 1802)]            0         \n",
      "_________________________________________________________________\n",
      "dense (Dense)                (None, 200)               360600    \n",
      "_________________________________________________________________\n",
      "dense_1 (Dense)              (None, 200)               40200     \n",
      "_________________________________________________________________\n",
      "dense_2 (Dense)              (None, 22)                4422      \n",
      "=================================================================\n",
      "Total params: 405,222\n",
      "Trainable params: 405,222\n",
      "Non-trainable params: 0\n",
      "_________________________________________________________________\n",
      "Epoch 1/20\n",
      "1/4 [======>.......................] - ETA: 1s - loss: 0.6902 - binary_accuracy: 0.5256 - recall: 0.5625"
     ]
    },
    {
     "name": "stderr",
     "output_type": "stream",
     "text": [
      "2022-12-28 16:37:04.717182: I tensorflow/stream_executor/platform/default/dso_loader.cc:49] Successfully opened dynamic library libcublas.so.10\n"
     ]
    },
    {
     "name": "stdout",
     "output_type": "stream",
     "text": [
      "4/4 [==============================] - 1s 123ms/step - loss: 0.5043 - binary_accuracy: 0.7536 - recall: 0.2625 - val_loss: 0.2104 - val_binary_accuracy: 0.9545 - val_recall: 0.0000e+00\n",
      "Epoch 2/20\n",
      "4/4 [==============================] - 0s 15ms/step - loss: 0.1983 - binary_accuracy: 0.9545 - recall: 0.0000e+00 - val_loss: 0.1837 - val_binary_accuracy: 0.9545 - val_recall: 0.0000e+00\n",
      "Epoch 3/20\n",
      "4/4 [==============================] - 0s 18ms/step - loss: 0.1842 - binary_accuracy: 0.9545 - recall: 0.0000e+00 - val_loss: 0.1845 - val_binary_accuracy: 0.9545 - val_recall: 0.0000e+00\n",
      "Epoch 4/20\n",
      "4/4 [==============================] - 0s 17ms/step - loss: 0.1849 - binary_accuracy: 0.9545 - recall: 0.0000e+00 - val_loss: 0.1841 - val_binary_accuracy: 0.9545 - val_recall: 0.0000e+00\n",
      "Epoch 5/20\n",
      "4/4 [==============================] - 0s 18ms/step - loss: 0.1820 - binary_accuracy: 0.9545 - recall: 0.0000e+00 - val_loss: 0.1812 - val_binary_accuracy: 0.9545 - val_recall: 0.0000e+00\n",
      "Epoch 6/20\n",
      "4/4 [==============================] - 0s 17ms/step - loss: 0.1820 - binary_accuracy: 0.9545 - recall: 0.0000e+00 - val_loss: 0.1769 - val_binary_accuracy: 0.9545 - val_recall: 0.0000e+00\n",
      "Epoch 7/20\n",
      "4/4 [==============================] - 0s 18ms/step - loss: 0.1738 - binary_accuracy: 0.9545 - recall: 0.0000e+00 - val_loss: 0.1726 - val_binary_accuracy: 0.9545 - val_recall: 0.0000e+00\n",
      "Epoch 8/20\n",
      "4/4 [==============================] - 0s 14ms/step - loss: 0.1705 - binary_accuracy: 0.9545 - recall: 0.0000e+00 - val_loss: 0.1685 - val_binary_accuracy: 0.9545 - val_recall: 0.0000e+00\n",
      "Epoch 9/20\n",
      "4/4 [==============================] - 0s 13ms/step - loss: 0.1622 - binary_accuracy: 0.9545 - recall: 0.0000e+00 - val_loss: 0.1649 - val_binary_accuracy: 0.9545 - val_recall: 0.0000e+00\n",
      "Epoch 10/20\n",
      "4/4 [==============================] - 0s 17ms/step - loss: 0.1627 - binary_accuracy: 0.9553 - recall: 0.0156 - val_loss: 0.1620 - val_binary_accuracy: 0.9545 - val_recall: 0.0000e+00\n",
      "Epoch 11/20\n",
      "4/4 [==============================] - 0s 17ms/step - loss: 0.1590 - binary_accuracy: 0.9557 - recall: 0.0250 - val_loss: 0.1592 - val_binary_accuracy: 0.9561 - val_recall: 0.0341\n",
      "Epoch 12/20\n",
      "4/4 [==============================] - 0s 21ms/step - loss: 0.1569 - binary_accuracy: 0.9580 - recall: 0.0750 - val_loss: 0.1564 - val_binary_accuracy: 0.9582 - val_recall: 0.0795\n",
      "Epoch 13/20\n",
      "4/4 [==============================] - 0s 19ms/step - loss: 0.1480 - binary_accuracy: 0.9603 - recall: 0.1271 - val_loss: 0.1532 - val_binary_accuracy: 0.9597 - val_recall: 0.1136\n",
      "Epoch 14/20\n",
      "4/4 [==============================] - 0s 19ms/step - loss: 0.1495 - binary_accuracy: 0.9597 - recall: 0.1125 - val_loss: 0.1506 - val_binary_accuracy: 0.9607 - val_recall: 0.1364\n",
      "Epoch 15/20\n",
      "4/4 [==============================] - 0s 18ms/step - loss: 0.1465 - binary_accuracy: 0.9604 - recall: 0.1281 - val_loss: 0.1485 - val_binary_accuracy: 0.9607 - val_recall: 0.1364\n",
      "Epoch 16/20\n",
      "4/4 [==============================] - 0s 13ms/step - loss: 0.1391 - binary_accuracy: 0.9630 - recall: 0.1854 - val_loss: 0.1463 - val_binary_accuracy: 0.9613 - val_recall: 0.1477\n",
      "Epoch 17/20\n",
      "4/4 [==============================] - 0s 13ms/step - loss: 0.1365 - binary_accuracy: 0.9639 - recall: 0.2052 - val_loss: 0.1427 - val_binary_accuracy: 0.9613 - val_recall: 0.1477\n",
      "Epoch 18/20\n",
      "4/4 [==============================] - 0s 13ms/step - loss: 0.1334 - binary_accuracy: 0.9637 - recall: 0.2021 - val_loss: 0.1400 - val_binary_accuracy: 0.9618 - val_recall: 0.1591\n",
      "Epoch 19/20\n",
      "4/4 [==============================] - 0s 17ms/step - loss: 0.1358 - binary_accuracy: 0.9625 - recall: 0.1760 - val_loss: 0.1388 - val_binary_accuracy: 0.9618 - val_recall: 0.1591\n",
      "Epoch 20/20\n",
      "4/4 [==============================] - 0s 19ms/step - loss: 0.1219 - binary_accuracy: 0.9660 - recall: 0.2521 - val_loss: 0.1360 - val_binary_accuracy: 0.9613 - val_recall: 0.1477\n"
     ]
    },
    {
     "data": {
      "text/plain": [
       "<tensorflow.python.keras.callbacks.History at 0x7f878c4392b0>"
      ]
     },
     "execution_count": 9,
     "metadata": {},
     "output_type": "execute_result"
    }
   ],
   "source": [
    "from model.nn import ANN\n",
    "\n",
    "ann = ANN(input_shape, num_class)\n",
    "ann.compile(loss='binary_crossentropy', optimizer='adam', metrics=['binary_accuracy', tf.keras.metrics.Recall()])\n",
    "ann.summary()\n",
    "\n",
    "\n",
    "ann.fit(datagen, epochs=20, validation_data=dataset.get_test_data())\n",
    "# ann.fit(x=dataset.get_training_data(), \n",
    "#         y=dataset.get_binary_targets(), \n",
    "#         epochs=50, \n",
    "#         batch_size=32) #optimal"
   ]
  },
  {
   "cell_type": "markdown",
   "id": "c3437b45-1ea5-4a77-9d45-047906f85774",
   "metadata": {},
   "source": [
    "### AlexNet"
   ]
  },
  {
   "cell_type": "code",
   "execution_count": 10,
   "id": "72e256ea-274e-4cdc-a8ee-b7fd9a80292c",
   "metadata": {
    "tags": []
   },
   "outputs": [],
   "source": [
    "# from model.nn import AlexNet\n",
    "\n",
    "# alexnet = AlexNet(input_shape, num_class)\n",
    "# alexnet.compile(loss='binary_crossentropy', optimizer='adam', metrics=['binary_accuracy'])\n",
    "# alexnet.summary()\n",
    "\n",
    "# alexnet.fit(datagen, epochs=200)"
   ]
  },
  {
   "cell_type": "markdown",
   "id": "68eba455-2f21-4dcb-a85e-d934174188e4",
   "metadata": {},
   "source": [
    "### VGG16"
   ]
  },
  {
   "cell_type": "code",
   "execution_count": 11,
   "id": "c732354e-23fe-4e6d-a5ce-207b2ece9324",
   "metadata": {
    "tags": []
   },
   "outputs": [],
   "source": [
    "# from model.nn import VGG16\n",
    "\n",
    "# vgg16 = VGG16(input_shape, num_class)\n",
    "# vgg16.compile(loss='binary_crossentropy', optimizer='adam', metrics=['binary_accuracy'])\n",
    "# vgg16.summary()\n",
    "\n",
    "# vgg16.fit(datagen, epochs=200, validation_data=dataset.get_test_data())"
   ]
  },
  {
   "cell_type": "markdown",
   "id": "de24bfb4-0e67-4998-8390-c90ccd382195",
   "metadata": {},
   "source": [
    "### ResNet50"
   ]
  },
  {
   "cell_type": "code",
   "execution_count": 12,
   "id": "4e4177a7-494e-4c2d-9305-e12d44420c57",
   "metadata": {
    "tags": []
   },
   "outputs": [],
   "source": [
    "# from model.nn import ResNet50\n",
    "\n",
    "# resnet = ResNet50(input_shape, num_class)\n",
    "# resnet.compile(loss='binary_crossentropy', optimizer='adam', metrics=['binary_accuracy'])\n",
    "# resnet.summary()\n",
    "\n",
    "# resnet.fit(datagen, epochs=20, validation_data=dataset.get_test_data())"
   ]
  },
  {
   "cell_type": "markdown",
   "id": "8a2e75fc-1c85-4de3-9281-c42f16212ed3",
   "metadata": {},
   "source": [
    "### DenseNet"
   ]
  },
  {
   "cell_type": "code",
   "execution_count": 13,
   "id": "510c7cd0-0524-4005-86af-4f39b1ada59e",
   "metadata": {
    "tags": []
   },
   "outputs": [],
   "source": [
    "# from model.nn import DenseNet\n",
    "\n",
    "# densenet = DenseNet(input_shape, num_class)\n",
    "# densenet.compile(loss='binary_crossentropy', optimizer='adam', metrics=['binary_accuracy'])\n",
    "# densenet.summary()\n",
    "\n",
    "# densenet.fit(datagen, epochs=20, validation_data=dataset.get_test_data())"
   ]
  },
  {
   "cell_type": "markdown",
   "id": "e8f9a80d-ddfa-4216-9155-ddfd6fef36f2",
   "metadata": {},
   "source": [
    "### LSTM"
   ]
  },
  {
   "cell_type": "code",
   "execution_count": 14,
   "id": "e5199420-a247-44c7-97ab-a96d45bebb35",
   "metadata": {},
   "outputs": [],
   "source": [
    "X_test, y_test = dataset.get_test_data()\n",
    "X_test = split2feat(X_test, n_features)"
   ]
  },
  {
   "cell_type": "code",
   "execution_count": 15,
   "id": "df6846bb-8a6f-4bad-97fa-7a18ebec4d09",
   "metadata": {},
   "outputs": [
    {
     "name": "stdout",
     "output_type": "stream",
     "text": [
      "Model: \"model_1\"\n",
      "_________________________________________________________________\n",
      "Layer (type)                 Output Shape              Param #   \n",
      "=================================================================\n",
      "input_2 (InputLayer)         [(None, 76, 24)]          0         \n",
      "_________________________________________________________________\n",
      "lstm (LSTM)                  (None, 200)               180000    \n",
      "_________________________________________________________________\n",
      "dense_3 (Dense)              (None, 200)               40200     \n",
      "_________________________________________________________________\n",
      "dense_4 (Dense)              (None, 200)               40200     \n",
      "_________________________________________________________________\n",
      "dense_5 (Dense)              (None, 22)                4422      \n",
      "=================================================================\n",
      "Total params: 264,822\n",
      "Trainable params: 264,822\n",
      "Non-trainable params: 0\n",
      "_________________________________________________________________\n",
      "Epoch 1/20\n"
     ]
    },
    {
     "name": "stderr",
     "output_type": "stream",
     "text": [
      "2022-12-28 16:37:08.001587: I tensorflow/stream_executor/platform/default/dso_loader.cc:49] Successfully opened dynamic library libcudnn.so.7\n"
     ]
    },
    {
     "name": "stdout",
     "output_type": "stream",
     "text": [
      "4/4 [==============================] - 2s 109ms/step - loss: 0.6892 - binary_accuracy: 0.7224 - val_loss: 0.6783 - val_binary_accuracy: 0.9545\n",
      "Epoch 2/20\n",
      "4/4 [==============================] - 0s 19ms/step - loss: 0.6318 - binary_accuracy: 0.9545 - val_loss: 0.3281 - val_binary_accuracy: 0.9545\n",
      "Epoch 3/20\n",
      "4/4 [==============================] - 0s 19ms/step - loss: 0.2692 - binary_accuracy: 0.9545 - val_loss: 0.2171 - val_binary_accuracy: 0.9545\n",
      "Epoch 4/20\n",
      "4/4 [==============================] - 0s 20ms/step - loss: 0.2199 - binary_accuracy: 0.9545 - val_loss: 0.2093 - val_binary_accuracy: 0.9545\n",
      "Epoch 5/20\n",
      "4/4 [==============================] - 0s 18ms/step - loss: 0.2033 - binary_accuracy: 0.9545 - val_loss: 0.1906 - val_binary_accuracy: 0.9545\n",
      "Epoch 6/20\n",
      "4/4 [==============================] - 0s 20ms/step - loss: 0.1910 - binary_accuracy: 0.9545 - val_loss: 0.1936 - val_binary_accuracy: 0.9545\n",
      "Epoch 7/20\n",
      "4/4 [==============================] - 0s 14ms/step - loss: 0.1921 - binary_accuracy: 0.9545 - val_loss: 0.1867 - val_binary_accuracy: 0.9545\n",
      "Epoch 8/20\n",
      "4/4 [==============================] - 0s 15ms/step - loss: 0.1865 - binary_accuracy: 0.9545 - val_loss: 0.1876 - val_binary_accuracy: 0.9545\n",
      "Epoch 9/20\n",
      "4/4 [==============================] - 0s 20ms/step - loss: 0.1882 - binary_accuracy: 0.9545 - val_loss: 0.1875 - val_binary_accuracy: 0.9545\n",
      "Epoch 10/20\n",
      "4/4 [==============================] - 0s 20ms/step - loss: 0.1871 - binary_accuracy: 0.9545 - val_loss: 0.1861 - val_binary_accuracy: 0.9545\n",
      "Epoch 11/20\n",
      "4/4 [==============================] - 0s 19ms/step - loss: 0.1863 - binary_accuracy: 0.9545 - val_loss: 0.1862 - val_binary_accuracy: 0.9545\n",
      "Epoch 12/20\n",
      "4/4 [==============================] - 0s 20ms/step - loss: 0.1868 - binary_accuracy: 0.9545 - val_loss: 0.1851 - val_binary_accuracy: 0.9545\n",
      "Epoch 13/20\n",
      "4/4 [==============================] - 0s 16ms/step - loss: 0.1852 - binary_accuracy: 0.9545 - val_loss: 0.1852 - val_binary_accuracy: 0.9545\n",
      "Epoch 14/20\n",
      "4/4 [==============================] - 0s 16ms/step - loss: 0.1855 - binary_accuracy: 0.9545 - val_loss: 0.1852 - val_binary_accuracy: 0.9545\n",
      "Epoch 15/20\n",
      "4/4 [==============================] - 0s 15ms/step - loss: 0.1855 - binary_accuracy: 0.9545 - val_loss: 0.1852 - val_binary_accuracy: 0.9545\n",
      "Epoch 16/20\n",
      "4/4 [==============================] - 0s 14ms/step - loss: 0.1858 - binary_accuracy: 0.9545 - val_loss: 0.1851 - val_binary_accuracy: 0.9545\n",
      "Epoch 17/20\n",
      "4/4 [==============================] - 0s 15ms/step - loss: 0.1852 - binary_accuracy: 0.9545 - val_loss: 0.1851 - val_binary_accuracy: 0.9545\n",
      "Epoch 18/20\n",
      "4/4 [==============================] - 0s 19ms/step - loss: 0.1853 - binary_accuracy: 0.9545 - val_loss: 0.1851 - val_binary_accuracy: 0.9545\n",
      "Epoch 19/20\n",
      "4/4 [==============================] - 0s 19ms/step - loss: 0.1852 - binary_accuracy: 0.9545 - val_loss: 0.1851 - val_binary_accuracy: 0.9545\n",
      "Epoch 20/20\n",
      "4/4 [==============================] - 0s 15ms/step - loss: 0.1848 - binary_accuracy: 0.9545 - val_loss: 0.1852 - val_binary_accuracy: 0.9545\n"
     ]
    },
    {
     "data": {
      "text/plain": [
       "<tensorflow.python.keras.callbacks.History at 0x7f878bfd9820>"
      ]
     },
     "execution_count": 15,
     "metadata": {},
     "output_type": "execute_result"
    }
   ],
   "source": [
    "from model.rnn import VanLSTM\n",
    "\n",
    "lstm = VanLSTM(input_shape_rnn, num_class)\n",
    "lstm.compile(loss='binary_crossentropy', optimizer='adam', metrics=['binary_accuracy'])\n",
    "lstm.summary()\n",
    "\n",
    "lstm.fit(datagen_rnn, epochs=20, validation_data=(X_test,y_test))"
   ]
  },
  {
   "cell_type": "markdown",
   "id": "c63150c1-06ef-4041-929e-622534b7afca",
   "metadata": {},
   "source": [
    "## Test"
   ]
  },
  {
   "cell_type": "code",
   "execution_count": 16,
   "id": "95999d80-1bef-4625-8ccc-caaefee05395",
   "metadata": {},
   "outputs": [],
   "source": [
    "from utils import multilabel_classification_report"
   ]
  },
  {
   "cell_type": "code",
   "execution_count": 17,
   "id": "f8c7b7cb-df4c-4b89-b6c1-9080e11aaf8c",
   "metadata": {},
   "outputs": [
    {
     "name": "stdout",
     "output_type": "stream",
     "text": [
      "3/3 [==============================] - 0s 2ms/step - loss: 0.1360 - binary_accuracy: 0.9613 - recall: 0.1477\n",
      "            precision     recall   f1-score    support\n",
      "Acrylic          0.00       0.00       0.00          4\n",
      "ENR              1.00       1.00       1.00          4\n",
      "EPDM             0.00       0.00       0.00          4\n",
      "HDPE             0.00       0.00       0.00          4\n",
      "LDPE             0.00       0.00       0.00          4\n",
      "Nylon            1.00       0.75       0.86          4\n",
      "PBAT             0.00       0.00       0.00          4\n",
      "PBS              0.00       0.00       0.00          4\n",
      "PC               0.00       0.00       0.00          4\n",
      "PEEK             0.00       0.00       0.00          4\n",
      "PEI              0.00       0.00       0.00          4\n",
      "PET              0.00       0.00       0.00          4\n",
      "PLA              1.00       0.75       0.86          4\n",
      "PMMA             0.00       0.00       0.00          4\n",
      "POM              0.00       0.00       0.00          4\n",
      "PP               0.00       0.00       0.00          4\n",
      "PS               0.00       0.00       0.00          4\n",
      "PTEE             0.00       0.00       0.00          4\n",
      "PU               0.00       0.00       0.00          4\n",
      "PVA              1.00       0.75       0.86          4\n",
      "PVC              0.00       0.00       0.00          4\n",
      "cellulose        0.00       0.00       0.00          4\n",
      "\n",
      "macro avg        0.18       0.15       0.16         88\n"
     ]
    },
    {
     "name": "stderr",
     "output_type": "stream",
     "text": [
      "/home/yoyo/anaconda3/envs/wd/lib/python3.9/site-packages/sklearn/metrics/_classification.py:1248: UndefinedMetricWarning: Precision and F-score are ill-defined and being set to 0.0 in labels with no predicted samples. Use `zero_division` parameter to control this behavior.\n",
      "  _warn_prf(average, modifier, msg_start, len(result))\n",
      "/home/yoyo/anaconda3/envs/wd/lib/python3.9/site-packages/sklearn/metrics/_classification.py:1248: UndefinedMetricWarning: Precision and F-score are ill-defined and being set to 0.0 in labels with no predicted samples. Use `zero_division` parameter to control this behavior.\n",
      "  _warn_prf(average, modifier, msg_start, len(result))\n",
      "/home/yoyo/anaconda3/envs/wd/lib/python3.9/site-packages/sklearn/metrics/_classification.py:1248: UndefinedMetricWarning: Precision and F-score are ill-defined and being set to 0.0 in labels with no predicted samples. Use `zero_division` parameter to control this behavior.\n",
      "  _warn_prf(average, modifier, msg_start, len(result))\n",
      "/home/yoyo/anaconda3/envs/wd/lib/python3.9/site-packages/sklearn/metrics/_classification.py:1248: UndefinedMetricWarning: Precision and F-score are ill-defined and being set to 0.0 in labels with no predicted samples. Use `zero_division` parameter to control this behavior.\n",
      "  _warn_prf(average, modifier, msg_start, len(result))\n",
      "/home/yoyo/anaconda3/envs/wd/lib/python3.9/site-packages/sklearn/metrics/_classification.py:1248: UndefinedMetricWarning: Precision and F-score are ill-defined and being set to 0.0 in labels with no predicted samples. Use `zero_division` parameter to control this behavior.\n",
      "  _warn_prf(average, modifier, msg_start, len(result))\n",
      "/home/yoyo/anaconda3/envs/wd/lib/python3.9/site-packages/sklearn/metrics/_classification.py:1248: UndefinedMetricWarning: Precision and F-score are ill-defined and being set to 0.0 in labels with no predicted samples. Use `zero_division` parameter to control this behavior.\n",
      "  _warn_prf(average, modifier, msg_start, len(result))\n",
      "/home/yoyo/anaconda3/envs/wd/lib/python3.9/site-packages/sklearn/metrics/_classification.py:1248: UndefinedMetricWarning: Precision and F-score are ill-defined and being set to 0.0 in labels with no predicted samples. Use `zero_division` parameter to control this behavior.\n",
      "  _warn_prf(average, modifier, msg_start, len(result))\n",
      "/home/yoyo/anaconda3/envs/wd/lib/python3.9/site-packages/sklearn/metrics/_classification.py:1248: UndefinedMetricWarning: Precision and F-score are ill-defined and being set to 0.0 in labels with no predicted samples. Use `zero_division` parameter to control this behavior.\n",
      "  _warn_prf(average, modifier, msg_start, len(result))\n",
      "/home/yoyo/anaconda3/envs/wd/lib/python3.9/site-packages/sklearn/metrics/_classification.py:1248: UndefinedMetricWarning: Precision and F-score are ill-defined and being set to 0.0 in labels with no predicted samples. Use `zero_division` parameter to control this behavior.\n",
      "  _warn_prf(average, modifier, msg_start, len(result))\n",
      "/home/yoyo/anaconda3/envs/wd/lib/python3.9/site-packages/sklearn/metrics/_classification.py:1248: UndefinedMetricWarning: Precision and F-score are ill-defined and being set to 0.0 in labels with no predicted samples. Use `zero_division` parameter to control this behavior.\n",
      "  _warn_prf(average, modifier, msg_start, len(result))\n",
      "/home/yoyo/anaconda3/envs/wd/lib/python3.9/site-packages/sklearn/metrics/_classification.py:1248: UndefinedMetricWarning: Precision and F-score are ill-defined and being set to 0.0 in labels with no predicted samples. Use `zero_division` parameter to control this behavior.\n",
      "  _warn_prf(average, modifier, msg_start, len(result))\n",
      "/home/yoyo/anaconda3/envs/wd/lib/python3.9/site-packages/sklearn/metrics/_classification.py:1248: UndefinedMetricWarning: Precision and F-score are ill-defined and being set to 0.0 in labels with no predicted samples. Use `zero_division` parameter to control this behavior.\n",
      "  _warn_prf(average, modifier, msg_start, len(result))\n",
      "/home/yoyo/anaconda3/envs/wd/lib/python3.9/site-packages/sklearn/metrics/_classification.py:1248: UndefinedMetricWarning: Precision and F-score are ill-defined and being set to 0.0 in labels with no predicted samples. Use `zero_division` parameter to control this behavior.\n",
      "  _warn_prf(average, modifier, msg_start, len(result))\n",
      "/home/yoyo/anaconda3/envs/wd/lib/python3.9/site-packages/sklearn/metrics/_classification.py:1248: UndefinedMetricWarning: Precision and F-score are ill-defined and being set to 0.0 in labels with no predicted samples. Use `zero_division` parameter to control this behavior.\n",
      "  _warn_prf(average, modifier, msg_start, len(result))\n",
      "/home/yoyo/anaconda3/envs/wd/lib/python3.9/site-packages/sklearn/metrics/_classification.py:1248: UndefinedMetricWarning: Precision and F-score are ill-defined and being set to 0.0 in labels with no predicted samples. Use `zero_division` parameter to control this behavior.\n",
      "  _warn_prf(average, modifier, msg_start, len(result))\n",
      "/home/yoyo/anaconda3/envs/wd/lib/python3.9/site-packages/sklearn/metrics/_classification.py:1248: UndefinedMetricWarning: Precision and F-score are ill-defined and being set to 0.0 in labels with no predicted samples. Use `zero_division` parameter to control this behavior.\n",
      "  _warn_prf(average, modifier, msg_start, len(result))\n",
      "/home/yoyo/anaconda3/envs/wd/lib/python3.9/site-packages/sklearn/metrics/_classification.py:1248: UndefinedMetricWarning: Precision and F-score are ill-defined and being set to 0.0 in labels with no predicted samples. Use `zero_division` parameter to control this behavior.\n",
      "  _warn_prf(average, modifier, msg_start, len(result))\n",
      "/home/yoyo/anaconda3/envs/wd/lib/python3.9/site-packages/sklearn/metrics/_classification.py:1248: UndefinedMetricWarning: Precision and F-score are ill-defined and being set to 0.0 in labels with no predicted samples. Use `zero_division` parameter to control this behavior.\n",
      "  _warn_prf(average, modifier, msg_start, len(result))\n"
     ]
    }
   ],
   "source": [
    "multilabel_classification_report(dataset, ann)"
   ]
  },
  {
   "cell_type": "code",
   "execution_count": 18,
   "id": "9c646c56-8d72-41c5-a7a7-25c9923bbf7e",
   "metadata": {},
   "outputs": [],
   "source": [
    "# multilabel_classification_report(dataset, alexnet)"
   ]
  },
  {
   "cell_type": "code",
   "execution_count": 19,
   "id": "a7fed8e5-8b0e-4a29-872a-654c7d31588c",
   "metadata": {},
   "outputs": [],
   "source": [
    "# multilabel_classification_report(dataset, vgg16)"
   ]
  },
  {
   "cell_type": "code",
   "execution_count": 20,
   "id": "8ffb1036-b421-4826-93a9-0266bf3db987",
   "metadata": {},
   "outputs": [],
   "source": [
    "# multilabel_classification_report(dataset, resnet)"
   ]
  },
  {
   "cell_type": "code",
   "execution_count": 21,
   "id": "26486cac-581f-41d8-bb0b-f96a71f4bd5c",
   "metadata": {},
   "outputs": [],
   "source": [
    "# multilabel_classification_report(dataset, densenet)"
   ]
  },
  {
   "cell_type": "code",
   "execution_count": 22,
   "id": "88ebcb7f-f8f7-4606-8938-790269cfd472",
   "metadata": {},
   "outputs": [
    {
     "name": "stdout",
     "output_type": "stream",
     "text": [
      "3/3 [==============================] - 0s 3ms/step - loss: 0.1852 - binary_accuracy: 0.9545\n",
      "            precision     recall   f1-score    support\n",
      "Acrylic          0.00       0.00       0.00          4\n",
      "ENR              0.00       0.00       0.00          4\n",
      "EPDM             0.00       0.00       0.00          4\n",
      "HDPE             0.00       0.00       0.00          4\n",
      "LDPE             0.00       0.00       0.00          4\n",
      "Nylon            0.00       0.00       0.00          4\n",
      "PBAT             0.00       0.00       0.00          4\n",
      "PBS              0.00       0.00       0.00          4\n",
      "PC               0.00       0.00       0.00          4\n",
      "PEEK             0.00       0.00       0.00          4\n",
      "PEI              0.00       0.00       0.00          4\n",
      "PET              0.00       0.00       0.00          4\n",
      "PLA              0.00       0.00       0.00          4\n",
      "PMMA             0.00       0.00       0.00          4\n",
      "POM              0.00       0.00       0.00          4\n",
      "PP               0.00       0.00       0.00          4\n",
      "PS               0.00       0.00       0.00          4\n",
      "PTEE             0.00       0.00       0.00          4\n",
      "PU               0.00       0.00       0.00          4\n",
      "PVA              0.00       0.00       0.00          4\n",
      "PVC              0.00       0.00       0.00          4\n",
      "cellulose        0.00       0.00       0.00          4\n",
      "\n",
      "macro avg        0.00       0.00       0.00         88\n"
     ]
    },
    {
     "name": "stderr",
     "output_type": "stream",
     "text": [
      "/home/yoyo/anaconda3/envs/wd/lib/python3.9/site-packages/sklearn/metrics/_classification.py:1248: UndefinedMetricWarning: Precision and F-score are ill-defined and being set to 0.0 in labels with no predicted samples. Use `zero_division` parameter to control this behavior.\n",
      "  _warn_prf(average, modifier, msg_start, len(result))\n",
      "/home/yoyo/anaconda3/envs/wd/lib/python3.9/site-packages/sklearn/metrics/_classification.py:1248: UndefinedMetricWarning: Precision and F-score are ill-defined and being set to 0.0 in labels with no predicted samples. Use `zero_division` parameter to control this behavior.\n",
      "  _warn_prf(average, modifier, msg_start, len(result))\n",
      "/home/yoyo/anaconda3/envs/wd/lib/python3.9/site-packages/sklearn/metrics/_classification.py:1248: UndefinedMetricWarning: Precision and F-score are ill-defined and being set to 0.0 in labels with no predicted samples. Use `zero_division` parameter to control this behavior.\n",
      "  _warn_prf(average, modifier, msg_start, len(result))\n",
      "/home/yoyo/anaconda3/envs/wd/lib/python3.9/site-packages/sklearn/metrics/_classification.py:1248: UndefinedMetricWarning: Precision and F-score are ill-defined and being set to 0.0 in labels with no predicted samples. Use `zero_division` parameter to control this behavior.\n",
      "  _warn_prf(average, modifier, msg_start, len(result))\n",
      "/home/yoyo/anaconda3/envs/wd/lib/python3.9/site-packages/sklearn/metrics/_classification.py:1248: UndefinedMetricWarning: Precision and F-score are ill-defined and being set to 0.0 in labels with no predicted samples. Use `zero_division` parameter to control this behavior.\n",
      "  _warn_prf(average, modifier, msg_start, len(result))\n",
      "/home/yoyo/anaconda3/envs/wd/lib/python3.9/site-packages/sklearn/metrics/_classification.py:1248: UndefinedMetricWarning: Precision and F-score are ill-defined and being set to 0.0 in labels with no predicted samples. Use `zero_division` parameter to control this behavior.\n",
      "  _warn_prf(average, modifier, msg_start, len(result))\n",
      "/home/yoyo/anaconda3/envs/wd/lib/python3.9/site-packages/sklearn/metrics/_classification.py:1248: UndefinedMetricWarning: Precision and F-score are ill-defined and being set to 0.0 in labels with no predicted samples. Use `zero_division` parameter to control this behavior.\n",
      "  _warn_prf(average, modifier, msg_start, len(result))\n",
      "/home/yoyo/anaconda3/envs/wd/lib/python3.9/site-packages/sklearn/metrics/_classification.py:1248: UndefinedMetricWarning: Precision and F-score are ill-defined and being set to 0.0 in labels with no predicted samples. Use `zero_division` parameter to control this behavior.\n",
      "  _warn_prf(average, modifier, msg_start, len(result))\n",
      "/home/yoyo/anaconda3/envs/wd/lib/python3.9/site-packages/sklearn/metrics/_classification.py:1248: UndefinedMetricWarning: Precision and F-score are ill-defined and being set to 0.0 in labels with no predicted samples. Use `zero_division` parameter to control this behavior.\n",
      "  _warn_prf(average, modifier, msg_start, len(result))\n",
      "/home/yoyo/anaconda3/envs/wd/lib/python3.9/site-packages/sklearn/metrics/_classification.py:1248: UndefinedMetricWarning: Precision and F-score are ill-defined and being set to 0.0 in labels with no predicted samples. Use `zero_division` parameter to control this behavior.\n",
      "  _warn_prf(average, modifier, msg_start, len(result))\n",
      "/home/yoyo/anaconda3/envs/wd/lib/python3.9/site-packages/sklearn/metrics/_classification.py:1248: UndefinedMetricWarning: Precision and F-score are ill-defined and being set to 0.0 in labels with no predicted samples. Use `zero_division` parameter to control this behavior.\n",
      "  _warn_prf(average, modifier, msg_start, len(result))\n",
      "/home/yoyo/anaconda3/envs/wd/lib/python3.9/site-packages/sklearn/metrics/_classification.py:1248: UndefinedMetricWarning: Precision and F-score are ill-defined and being set to 0.0 in labels with no predicted samples. Use `zero_division` parameter to control this behavior.\n",
      "  _warn_prf(average, modifier, msg_start, len(result))\n",
      "/home/yoyo/anaconda3/envs/wd/lib/python3.9/site-packages/sklearn/metrics/_classification.py:1248: UndefinedMetricWarning: Precision and F-score are ill-defined and being set to 0.0 in labels with no predicted samples. Use `zero_division` parameter to control this behavior.\n",
      "  _warn_prf(average, modifier, msg_start, len(result))\n",
      "/home/yoyo/anaconda3/envs/wd/lib/python3.9/site-packages/sklearn/metrics/_classification.py:1248: UndefinedMetricWarning: Precision and F-score are ill-defined and being set to 0.0 in labels with no predicted samples. Use `zero_division` parameter to control this behavior.\n",
      "  _warn_prf(average, modifier, msg_start, len(result))\n",
      "/home/yoyo/anaconda3/envs/wd/lib/python3.9/site-packages/sklearn/metrics/_classification.py:1248: UndefinedMetricWarning: Precision and F-score are ill-defined and being set to 0.0 in labels with no predicted samples. Use `zero_division` parameter to control this behavior.\n",
      "  _warn_prf(average, modifier, msg_start, len(result))\n",
      "/home/yoyo/anaconda3/envs/wd/lib/python3.9/site-packages/sklearn/metrics/_classification.py:1248: UndefinedMetricWarning: Precision and F-score are ill-defined and being set to 0.0 in labels with no predicted samples. Use `zero_division` parameter to control this behavior.\n",
      "  _warn_prf(average, modifier, msg_start, len(result))\n",
      "/home/yoyo/anaconda3/envs/wd/lib/python3.9/site-packages/sklearn/metrics/_classification.py:1248: UndefinedMetricWarning: Precision and F-score are ill-defined and being set to 0.0 in labels with no predicted samples. Use `zero_division` parameter to control this behavior.\n",
      "  _warn_prf(average, modifier, msg_start, len(result))\n",
      "/home/yoyo/anaconda3/envs/wd/lib/python3.9/site-packages/sklearn/metrics/_classification.py:1248: UndefinedMetricWarning: Precision and F-score are ill-defined and being set to 0.0 in labels with no predicted samples. Use `zero_division` parameter to control this behavior.\n",
      "  _warn_prf(average, modifier, msg_start, len(result))\n",
      "/home/yoyo/anaconda3/envs/wd/lib/python3.9/site-packages/sklearn/metrics/_classification.py:1248: UndefinedMetricWarning: Precision and F-score are ill-defined and being set to 0.0 in labels with no predicted samples. Use `zero_division` parameter to control this behavior.\n",
      "  _warn_prf(average, modifier, msg_start, len(result))\n",
      "/home/yoyo/anaconda3/envs/wd/lib/python3.9/site-packages/sklearn/metrics/_classification.py:1248: UndefinedMetricWarning: Precision and F-score are ill-defined and being set to 0.0 in labels with no predicted samples. Use `zero_division` parameter to control this behavior.\n",
      "  _warn_prf(average, modifier, msg_start, len(result))\n",
      "/home/yoyo/anaconda3/envs/wd/lib/python3.9/site-packages/sklearn/metrics/_classification.py:1248: UndefinedMetricWarning: Precision and F-score are ill-defined and being set to 0.0 in labels with no predicted samples. Use `zero_division` parameter to control this behavior.\n",
      "  _warn_prf(average, modifier, msg_start, len(result))\n",
      "/home/yoyo/anaconda3/envs/wd/lib/python3.9/site-packages/sklearn/metrics/_classification.py:1248: UndefinedMetricWarning: Precision and F-score are ill-defined and being set to 0.0 in labels with no predicted samples. Use `zero_division` parameter to control this behavior.\n",
      "  _warn_prf(average, modifier, msg_start, len(result))\n"
     ]
    }
   ],
   "source": [
    "multilabel_classification_report(dataset, lstm, n_features)"
   ]
  },
  {
   "cell_type": "code",
   "execution_count": null,
   "id": "50bf2ce2-0f91-47cb-a71f-9fd2adf0785c",
   "metadata": {},
   "outputs": [],
   "source": []
  }
 ],
 "metadata": {
  "kernelspec": {
   "display_name": "wd",
   "language": "python",
   "name": "wd"
  },
  "language_info": {
   "codemirror_mode": {
    "name": "ipython",
    "version": 3
   },
   "file_extension": ".py",
   "mimetype": "text/x-python",
   "name": "python",
   "nbconvert_exporter": "python",
   "pygments_lexer": "ipython3",
   "version": "3.9.10"
  }
 },
 "nbformat": 4,
 "nbformat_minor": 5
}
