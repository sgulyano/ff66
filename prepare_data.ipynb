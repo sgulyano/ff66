{
 "cells": [
  {
   "cell_type": "markdown",
   "id": "23f39c20-3781-4180-9466-fcc688f209c7",
   "metadata": {
    "tags": []
   },
   "source": [
    "# Prepare Data\n",
    "\n",
    "FTIR are collected from both known and unknown samples. Known samples are prepared in labs and consists of only single material. While, unknown samples are collected from places of interest so the samples may consists of multiple materials.\n",
    "\n",
    "FTIR data are given as a group of spectra in [.SPG](https://www.spectrochempy.fr/latest/userguide/importexport/importIR.html#Import-of-OMNIC-files) file. Spectra are grouped either by material types (for known types) or measurement settings (for unknown types). Data are converted to CSV files using `spg2csv.ipynb` script. A manual approach is to use the [Spectragryph](https://www.effemm2.de/spectragryph/index.html) software (for sanity check).\n",
    "\n",
    "The purpose of this script is to create a standard training and test data for all experiments. The steps include:\n",
    "* Split data into training and test data with 60:40 ratio.\n",
    "* Get reference shift (spectra data have different shift values). Use the one with the highest frequency (maximum value)."
   ]
  },
  {
   "cell_type": "code",
   "execution_count": 3,
   "id": "ad23dd1e-a5f8-4c63-bcdc-01b5fde29f7b",
   "metadata": {},
   "outputs": [],
   "source": [
    "import os\n",
    "import re\n",
    "import glob\n",
    "import shutil\n",
    "\n",
    "import numpy as np\n",
    "import pandas as pd\n",
    "\n",
    "from sklearn.model_selection import train_test_split"
   ]
  },
  {
   "cell_type": "markdown",
   "id": "6f67c801-6027-4b9e-98a5-51b7579cf765",
   "metadata": {},
   "source": [
    "**User Param**"
   ]
  },
  {
   "cell_type": "code",
   "execution_count": 4,
   "id": "b36f3341-338c-4484-a005-2c85fbe147ee",
   "metadata": {},
   "outputs": [],
   "source": [
    "input_dir = 'Microplastics_BCET_csv'\n",
    "output_dir = 'data'"
   ]
  },
  {
   "cell_type": "markdown",
   "id": "08ebbf31-848e-4ac2-a865-ce1c4ac5fc8a",
   "metadata": {},
   "source": [
    "## List All Data\n",
    "\n",
    "Get a list of filenames and its label (target), i.e., the type of material of the spectrum."
   ]
  },
  {
   "cell_type": "code",
   "execution_count": 11,
   "id": "8fc498a8-69bb-4121-9fd2-96208b979ad5",
   "metadata": {},
   "outputs": [],
   "source": [
    "fl = glob.glob(os.path.join(input_dir, '[!Membrane]*_SD','*.csv'))\n",
    "target = [re.search(r'/(.*)_SD', f).group(1) for f in fl]"
   ]
  },
  {
   "cell_type": "markdown",
   "id": "43dea64c-cb0d-4714-8e0a-571d9d255800",
   "metadata": {},
   "source": [
    "Sanity check: Show number of samples for each type of material and the number of all materials"
   ]
  },
  {
   "cell_type": "code",
   "execution_count": 63,
   "id": "bb1e4a10-d0da-46e7-a81f-835d1630906c",
   "metadata": {},
   "outputs": [
    {
     "data": {
      "text/plain": [
       "'No. of materials : 22'"
      ]
     },
     "execution_count": 63,
     "metadata": {},
     "output_type": "execute_result"
    }
   ],
   "source": [
    "u, c = np.unique(target, return_counts=True)\n",
    "f'No. of materials : {len(u)}'"
   ]
  },
  {
   "cell_type": "code",
   "execution_count": 64,
   "id": "cbdab19b-7c35-4a57-867d-84eb31a7e475",
   "metadata": {},
   "outputs": [
    {
     "data": {
      "text/plain": [
       "array([['Acrylic', '10'],\n",
       "       ['Cellulose', '10'],\n",
       "       ['ENR', '10'],\n",
       "       ['EPDM', '10'],\n",
       "       ['HDPE', '10'],\n",
       "       ['LDPE', '10'],\n",
       "       ['Nylon', '10'],\n",
       "       ['PBAT', '10'],\n",
       "       ['PBS', '10'],\n",
       "       ['PC', '10'],\n",
       "       ['PEEK', '10'],\n",
       "       ['PEI', '10'],\n",
       "       ['PET', '10'],\n",
       "       ['PLA', '10'],\n",
       "       ['PMMA', '10'],\n",
       "       ['POM', '10'],\n",
       "       ['PP', '10'],\n",
       "       ['PS', '10'],\n",
       "       ['PTEE', '10'],\n",
       "       ['PU', '10'],\n",
       "       ['PVA', '10'],\n",
       "       ['PVC', '10']], dtype='<U21')"
      ]
     },
     "execution_count": 64,
     "metadata": {},
     "output_type": "execute_result"
    }
   ],
   "source": [
    "np.vstack([u, c]).T"
   ]
  },
  {
   "cell_type": "markdown",
   "id": "c15e3a6f-edd0-41e4-a32c-793bf6299875",
   "metadata": {},
   "source": [
    "## Split Train/Test Data\n",
    "\n",
    "Split with 60:40 ratio with stratification to ensure that all types of materials exist in the test data."
   ]
  },
  {
   "cell_type": "code",
   "execution_count": 48,
   "id": "1d660dbd-676d-4092-8ed6-58e363d909a7",
   "metadata": {},
   "outputs": [],
   "source": [
    "X_train, X_test, y_train, y_test = train_test_split(fl, target, test_size=0.4, random_state=42, stratify=target)"
   ]
  },
  {
   "cell_type": "code",
   "execution_count": 51,
   "id": "cc059ec3-a693-4a1b-aae3-810f777e4320",
   "metadata": {},
   "outputs": [
    {
     "data": {
      "text/plain": [
       "(array(['Acrylic', 'Cellulose', 'ENR', 'EPDM', 'HDPE', 'LDPE', 'Nylon',\n",
       "        'PBAT', 'PBS', 'PC', 'PEEK', 'PEI', 'PET', 'PLA', 'PMMA', 'POM',\n",
       "        'PP', 'PS', 'PTEE', 'PU', 'PVA', 'PVC'], dtype='<U9'),\n",
       " array([4, 4, 4, 4, 4, 4, 4, 4, 4, 4, 4, 4, 4, 4, 4, 4, 4, 4, 4, 4, 4, 4]))"
      ]
     },
     "execution_count": 51,
     "metadata": {},
     "output_type": "execute_result"
    }
   ],
   "source": [
    "np.unique(y_test, return_counts=True)"
   ]
  },
  {
   "cell_type": "markdown",
   "id": "17bfafc0-eadd-419d-a162-5762385e18a6",
   "metadata": {},
   "source": [
    "Save to output directory."
   ]
  },
  {
   "cell_type": "code",
   "execution_count": 58,
   "id": "d308ce6e-d195-44d0-ab6a-bcf7acdee7da",
   "metadata": {},
   "outputs": [],
   "source": [
    "os.makedirs(os.path.join(output_dir, 'train'), exist_ok=True)\n",
    "os.makedirs(os.path.join(output_dir, 'test'), exist_ok=True)"
   ]
  },
  {
   "cell_type": "code",
   "execution_count": 62,
   "id": "16d4de8b-cb9d-4adf-9a07-6affa893feee",
   "metadata": {},
   "outputs": [],
   "source": [
    "for src in X_train:\n",
    "    dst = os.path.join(output_dir, 'train', os.path.basename(src))\n",
    "    shutil.copyfile(src, dst)\n",
    "    \n",
    "for src in X_test:\n",
    "    dst = os.path.join(output_dir, 'test', os.path.basename(src))\n",
    "    shutil.copyfile(src, dst)"
   ]
  },
  {
   "cell_type": "markdown",
   "id": "9b783b7e-894a-4476-8be9-d37348aad605",
   "metadata": {},
   "source": [
    "## Get Reference FTIR Shift"
   ]
  },
  {
   "cell_type": "code",
   "execution_count": 93,
   "id": "bfc1d0c0-7f6c-452b-90ff-1ed8f8906d93",
   "metadata": {},
   "outputs": [
    {
     "data": {
      "text/html": [
       "<div>\n",
       "<style scoped>\n",
       "    .dataframe tbody tr th:only-of-type {\n",
       "        vertical-align: middle;\n",
       "    }\n",
       "\n",
       "    .dataframe tbody tr th {\n",
       "        vertical-align: top;\n",
       "    }\n",
       "\n",
       "    .dataframe thead th {\n",
       "        text-align: right;\n",
       "    }\n",
       "</style>\n",
       "<table border=\"1\" class=\"dataframe\">\n",
       "  <thead>\n",
       "    <tr style=\"text-align: right;\">\n",
       "      <th></th>\n",
       "      <th>shift</th>\n",
       "      <th>intensity</th>\n",
       "    </tr>\n",
       "  </thead>\n",
       "  <tbody>\n",
       "    <tr>\n",
       "      <th>0</th>\n",
       "      <td>3999.881104</td>\n",
       "      <td>0.012529</td>\n",
       "    </tr>\n",
       "    <tr>\n",
       "      <th>1</th>\n",
       "      <td>3999.640045</td>\n",
       "      <td>0.012560</td>\n",
       "    </tr>\n",
       "    <tr>\n",
       "      <th>2</th>\n",
       "      <td>3999.398987</td>\n",
       "      <td>0.012705</td>\n",
       "    </tr>\n",
       "    <tr>\n",
       "      <th>3</th>\n",
       "      <td>3999.157928</td>\n",
       "      <td>0.012930</td>\n",
       "    </tr>\n",
       "    <tr>\n",
       "      <th>4</th>\n",
       "      <td>3998.916870</td>\n",
       "      <td>0.013177</td>\n",
       "    </tr>\n",
       "    <tr>\n",
       "      <th>...</th>\n",
       "      <td>...</td>\n",
       "      <td>...</td>\n",
       "    </tr>\n",
       "    <tr>\n",
       "      <th>14411</th>\n",
       "      <td>525.989319</td>\n",
       "      <td>0.068047</td>\n",
       "    </tr>\n",
       "    <tr>\n",
       "      <th>14412</th>\n",
       "      <td>525.748260</td>\n",
       "      <td>0.064801</td>\n",
       "    </tr>\n",
       "    <tr>\n",
       "      <th>14413</th>\n",
       "      <td>525.507202</td>\n",
       "      <td>0.062974</td>\n",
       "    </tr>\n",
       "    <tr>\n",
       "      <th>14414</th>\n",
       "      <td>525.266144</td>\n",
       "      <td>0.062596</td>\n",
       "    </tr>\n",
       "    <tr>\n",
       "      <th>14415</th>\n",
       "      <td>525.025085</td>\n",
       "      <td>0.063225</td>\n",
       "    </tr>\n",
       "  </tbody>\n",
       "</table>\n",
       "<p>14416 rows × 2 columns</p>\n",
       "</div>"
      ],
      "text/plain": [
       "             shift  intensity\n",
       "0      3999.881104   0.012529\n",
       "1      3999.640045   0.012560\n",
       "2      3999.398987   0.012705\n",
       "3      3999.157928   0.012930\n",
       "4      3998.916870   0.013177\n",
       "...            ...        ...\n",
       "14411   525.989319   0.068047\n",
       "14412   525.748260   0.064801\n",
       "14413   525.507202   0.062974\n",
       "14414   525.266144   0.062596\n",
       "14415   525.025085   0.063225\n",
       "\n",
       "[14416 rows x 2 columns]"
      ]
     },
     "execution_count": 93,
     "metadata": {},
     "output_type": "execute_result"
    }
   ],
   "source": [
    "df = pd.read_csv(os.path.join(input_dir, 'PET_SD/SD_PET_1.csv', header=None, names=['shift', 'intensity'])\n",
    "df"
   ]
  },
  {
   "cell_type": "code",
   "execution_count": 94,
   "id": "3d48da3f-451e-4794-865f-b4e50603fe64",
   "metadata": {},
   "outputs": [],
   "source": [
    "df['shift'].to_csv(os.path.join(output_dir, 'ref.csv'), index=False)"
   ]
  },
  {
   "cell_type": "markdown",
   "id": "4216121d-4a90-465b-a081-414558eb99af",
   "metadata": {},
   "source": [
    "## Get Unlabeled Data"
   ]
  },
  {
   "cell_type": "code",
   "execution_count": 10,
   "id": "5e662868-9994-4b05-a44c-aec5335b4f47",
   "metadata": {},
   "outputs": [],
   "source": [
    "os.makedirs(os.path.join(output_dir, 'unlabel'), exist_ok=True)"
   ]
  },
  {
   "cell_type": "code",
   "execution_count": 8,
   "id": "ba9855a6-e884-47db-9942-2848b82384a5",
   "metadata": {},
   "outputs": [],
   "source": [
    "fl = glob.glob(os.path.join(input_dir, '*-SB','*.csv'))"
   ]
  },
  {
   "cell_type": "code",
   "execution_count": 11,
   "id": "433d9422-44a0-4549-852d-7ec1a18f865e",
   "metadata": {},
   "outputs": [],
   "source": [
    "for src in fl:\n",
    "    dst = os.path.join(output_dir, 'unlabel', os.path.basename(src))\n",
    "    shutil.copyfile(src, dst)"
   ]
  },
  {
   "cell_type": "code",
   "execution_count": 12,
   "id": "687fe206-9774-41f1-827a-200c44e1cc66",
   "metadata": {},
   "outputs": [],
   "source": [
    "fl = glob.glob(os.path.join(output_dir, 'train','*.csv'))"
   ]
  },
  {
   "cell_type": "code",
   "execution_count": 15,
   "id": "c12a7d0f-dc3a-426b-96e2-63ecae5a0fa3",
   "metadata": {},
   "outputs": [],
   "source": [
    "for src in fl:\n",
    "    dst = os.path.join(output_dir, 'unlabel', os.path.basename(src))\n",
    "    shutil.copyfile(src, dst)"
   ]
  },
  {
   "cell_type": "markdown",
   "id": "c1ee9ac4-727e-4b3c-b48d-459fcb748918",
   "metadata": {},
   "source": [
    "## Get Unknown Data"
   ]
  },
  {
   "cell_type": "code",
   "execution_count": 5,
   "id": "8e5a6629-45f8-4f49-9db0-fe3432d1ec8d",
   "metadata": {},
   "outputs": [],
   "source": [
    "os.makedirs(os.path.join(output_dir, 'unknown'), exist_ok=True)"
   ]
  },
  {
   "cell_type": "code",
   "execution_count": 6,
   "id": "1a9e133d-a1ad-4ef7-8a2c-86b5b7d8c1b5",
   "metadata": {},
   "outputs": [],
   "source": [
    "fl = glob.glob(os.path.join(input_dir, '*-SB','*.csv'))"
   ]
  },
  {
   "cell_type": "code",
   "execution_count": 7,
   "id": "4acaeb16-18c1-4a4e-aa15-7baf14c6cabe",
   "metadata": {},
   "outputs": [],
   "source": [
    "for src in fl:\n",
    "    dst = os.path.join(output_dir, 'unknown', os.path.basename(src))\n",
    "    shutil.copyfile(src, dst)"
   ]
  },
  {
   "cell_type": "code",
   "execution_count": null,
   "id": "56092d0b-7643-41f9-b1a5-964b273d70bf",
   "metadata": {},
   "outputs": [],
   "source": []
  }
 ],
 "metadata": {
  "kernelspec": {
   "display_name": "wd",
   "language": "python",
   "name": "wd"
  },
  "language_info": {
   "codemirror_mode": {
    "name": "ipython",
    "version": 3
   },
   "file_extension": ".py",
   "mimetype": "text/x-python",
   "name": "python",
   "nbconvert_exporter": "python",
   "pygments_lexer": "ipython3",
   "version": "3.9.10"
  }
 },
 "nbformat": 4,
 "nbformat_minor": 5
}
