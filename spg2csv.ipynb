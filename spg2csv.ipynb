{
 "cells": [
  {
   "cell_type": "markdown",
   "id": "bf86f880-7d15-4037-9f88-ad5348fe2f88",
   "metadata": {},
   "source": [
    "# Conversion from SPG/SPA to CSV\n",
    "\n",
    "Convert FTIR data given in OMNIC files (SPG/SPA files) into CSV files using [`spectrochempy` library](https://www.spectrochempy.fr/).\n",
    "\n",
    "AIR and Background FTIR data are ignored since they vary across measurements and their magnitude is small compared to the material spectra so the method should be able to handle without further preprocessing steps."
   ]
  },
  {
   "cell_type": "code",
   "execution_count": 1,
   "id": "5d312897-fffb-409f-a329-b81e77d4ab41",
   "metadata": {},
   "outputs": [
    {
     "data": {
      "text/html": [
       "\n",
       "    \n",
       "    <table><tr><td>\n",
       "    \n",
       "    <img src='data:image/png;base64,iVBORw0KGgoAAAANSUhEUgAAABgAAAAYCAYAAADgdz34AAAAAXNSR0IArs4c6QAAAAlw\n",
       "    SFlzAAAJOgAACToB8GSSSgAAAetpVFh0WE1MOmNvbS5hZG9iZS54bXAAAAAAADx4OnhtcG1ldGEgeG1sbnM6eD0iYWRvYmU6bnM6\n",
       "    bWV0YS8iIHg6eG1wdGs9IlhNUCBDb3JlIDUuNC4wIj4KICAgPHJkZjpSREYgeG1sbnM6cmRmPSJodHRwOi8vd3d3LnczLm9yZy8x\n",
       "    OTk5LzAyLzIyLXJkZi1zeW50YXgtbnMjIj4KICAgICAgPHJkZjpEZXNjcmlwdGlvbiByZGY6YWJvdXQ9IiIKICAgICAgICAgICAg\n",
       "    eG1sbnM6eG1wPSJodHRwOi8vbnMuYWRvYmUuY29tL3hhcC8xLjAvIgogICAgICAgICAgICB4bWxuczp0aWZmPSJodHRwOi8vbnMu\n",
       "    YWRvYmUuY29tL3RpZmYvMS4wLyI+CiAgICAgICAgIDx4bXA6Q3JlYXRvclRvb2w+bWF0cGxvdGxpYiB2ZXJzaW9uIDIuMS4wLCBo\n",
       "    dHRwOi8vbWF0cGxvdGxpYi5vcmcvPC94bXA6Q3JlYXRvclRvb2w+CiAgICAgICAgIDx0aWZmOk9yaWVudGF0aW9uPjE8L3RpZmY6\n",
       "    T3JpZW50YXRpb24+CiAgICAgIDwvcmRmOkRlc2NyaXB0aW9uPgogICA8L3JkZjpSREY+CjwveDp4bXBtZXRhPgqNQaNYAAAGiUlE\n",
       "    QVRIDY1We4xU1Rn/3XPuYx47u8w+hnU38hTcuoUEt/6D2y4RB0ME1BoEd9taJaKh9CFiN7YGp7appUAMNmktMZFoJTYVLVQ0smsy\n",
       "    26CN0SU1QgsuFAaW3WVmx33N677O6XfuyoIxTXqSO/fec+75fd93vt/3/UbDV0aKSZmCpkFMLz3T9utuu2N+o98aDSMBKVAo89z5\n",
       "    y+zEz3ZafcCOfvWdlGCalqKn1Bf71CygTd+mf1esSOnpdMpTb+vWpTZuWVfe3jLPa5tzHYNm0T5N0gpdkkHaDBeGBU6d1/t/fyS8\n",
       "    +/CbqdfUvmsx1PuMgc2bNxv79u1zgd31r+7JH1jbIZKxWRXAcYUQ8IWvBfBXNjEuJWPgMA02NR7C3/pYT9fjdZ3A9tGrWF8YSJHn\n",
       "    qcDz3y7q2T967PZv+gnYJdd1mEZ+62zGDQV/dQgKhmLzDNOXCEWM3j6eTT5Y3w78dOBKJLR1PQf+4ivPj76UPZnssBN+wbM9Aet/\n",
       "    AV81Mf1EEULXYfOobvX2WWQk0aoioXwwSmirOlioY0mu8BIouzYl7P8GV3vpqCCEZvlFz769w08oLDWvyKIyL1asSm28d6WfzA97\n",
       "    ztvvV1kexUMsmhlkULEkuGYmFYC6AvfUrITnwUKl5K79lkjeSSRRTCTbQPd95e1WzMbZSya74XoXAxctCllCnbECMOjZNGRwvzIX\n",
       "    nD85wbkMmKK+U045Dtdi8Qp+SAxU2GTg2bYlC9224pgvmSb54vkVTBQYyhUt2KjAMyMmPjwRQW5Mh2WKwJhlBh6jVGagFM84wZnQ\n",
       "    4bpC0Rt4pk1PbSt0NDcxDA5xryosDHWgtbM0DGZDWLSoiDMDYeQnGVrmOThxLozB0RAaahzkJzjKNqcIQBymJFMkOlN8Dqjpg0XY\n",
       "    Tx5xO/QbmmUrqIjGJznq47TqTaClKYfjp+PInLMwnOdYvtQBZ2XcunQY+VwIo4U4muoFEjVEFE6lQyEUKzHYfgQG9ylCyngU+Cxj\n",
       "    tOqxCDGHcCsOMCs6iQul5ZiStdATYxjMZXDLTUVwLY8Jey4uOh2IxjwsrP8UXJYxUrkZrghBahzV5iXU6gNkq0Z1EzIsUBUSCV2n\n",
       "    EOHo0LVxHCpuxabJJdhi5PFnvw5vLXwXIfNZvD/+JNo/X40NegE54sUaazl+UL8XD1x+FB9Ijjt4EQfdGN6J/x131LwIV9ap/AYs\n",
       "    0x1fz1ZKFbh6A7qKy/By9Dg6G36Ep91vUJJ15Cqr0Z67E8/HzmBrw1OwxWyM+3Mo6BAuSB17oyfx0Oyl2DN0Hqs/70Cx6hBCvESF\n",
       "    UY1ShWXZZEE7OTAYxZzaPH4TuoiusZvRnunFy2NbiHYuBp2vB66srX4vMEjpRKPxKXmnoQ4+Mn4DPiv8CYcrs3GfNUXJLtM+alSO\n",
       "    hrMj/KT+wBNW3+E/2liywNO3iSflbaFva/+stGDTxE0E9Sjaox8HBhxpEamzMGSEaFKg+mjEddzDh1MxTDq3YV1kGBsjfwW3S9Cq\n",
       "    anjmko+ndlb1UR3s6K8JlfphNWq9Ew/7c61T2BB/EbcaNkb8GBaE0tANH7/M34PLdhJDzjIcL9xPbdTG6zyM72Y+wXPHmvB489No\n",
       "    fm0b5HnbQ9Rgp/7DSSd29AeVvPeNyK6JcYl/yQVi5dBjuGvoV/gaJe47s45QUxrDmcYX0MBsdF7egvXZ7+O0vZA4X8QmOQWjlSK7\n",
       "    RDz5wIM30gp9UbWcGjXxhzdDu1SiNSpx6kcQB57rPnr/3dlkZarWLnlRq5oPET1dOCIOk4wALib9eeS5iygfhkd09H0DWphB/+gs\n",
       "    +PcOAS+ssrFmmXXgVfR0de9cpbAJfH3Q1jofW9DZk56dDcVsq9YcsoUMEd1qyLoT3BX1YiyHMJuk97hyjqIoE91t+NcTLeN0ZrfM\n",
       "    oXatZbu6G0h4VG+ibqq0IJVK6cAjo6serG3vSUezCMct0yQeSOFJSUImqb2qbknUpDqlZxE0QZ+ZUpSlZx79h4Nda6zef9dlk121\n",
       "    JDjbR5XggPRZlRnS6bRQRtLpn4++cuie/Yvn2svmNxuLw9WCcYIl4fEoTEGiSTUqJdfgU+8ROqf1iMkLzS389YtNPXc/PH8l8ONB\n",
       "    JZkHD+4JtD04HmVEDWWErmBhzV2/2LB1bemJG6krzv2S6NOHUgtEP0Oif5pE/3fHoruP7N8RiP61GArzSwbUhJJQpXJKiKbfr/3b\n",
       "    IhKq76sKPUdF9NW/LSqfSn6vjv8C45H/6FSgvZQAAAAASUVORK5CYII='\n",
       "         style='height:25px; border-radius:12px; display:inline-block; float:left; vertical-align:middle'></img>\n",
       "    \n",
       "    </td><td>\n",
       "    \n",
       "    &nbsp;&nbsp;<span style='font-size:12px'>SpectroChemPy's API - v.0.4.1<br/>© Copyright 2014-2022 - A.Travert & C.Fernandez @ LCS</span>\n",
       "    \n",
       "    </td></tr></table>\n",
       "    </div>\n",
       "    "
      ]
     },
     "metadata": {},
     "output_type": "display_data"
    }
   ],
   "source": [
    "import os\n",
    "import glob\n",
    "import numpy as np\n",
    "import pandas as pd\n",
    "import spectrochempy as scp"
   ]
  },
  {
   "cell_type": "markdown",
   "id": "f3380a66-1b65-4a76-930b-6ad47d3dac70",
   "metadata": {},
   "source": [
    "**User Param**"
   ]
  },
  {
   "cell_type": "code",
   "execution_count": 2,
   "id": "b117fbdb-cd48-42d0-9628-491b178c3678",
   "metadata": {},
   "outputs": [],
   "source": [
    "input_dir = 'Microplastics_BCET'\n",
    "output_dir = 'Microplastics_BCET_csv'"
   ]
  },
  {
   "cell_type": "markdown",
   "id": "d77192bf-d87f-4d2c-b928-b6f533710bdc",
   "metadata": {},
   "source": [
    "## Convert SPG files to CSV\n",
    "\n",
    "All data are given in SPG, except for Membrane filter data that is given in SPA."
   ]
  },
  {
   "cell_type": "code",
   "execution_count": 3,
   "id": "06058459-4a00-4366-b05a-7c0499e8c0f5",
   "metadata": {},
   "outputs": [],
   "source": [
    "fl = glob.glob(os.path.join(input_dir, '**', '*.spg'), recursive=True)"
   ]
  },
  {
   "cell_type": "code",
   "execution_count": 5,
   "id": "0bbe2df0-5444-4e8a-835b-8a6edad20d54",
   "metadata": {},
   "outputs": [
    {
     "name": "stdout",
     "output_type": "stream",
     "text": [
      "Reading: Microplastics_BCET\\1mm-1NF1G-SB\\1mm-1NF1G-SB.SPG             ... done\n",
      "Reading: Microplastics_BCET\\1mm-1NF2F-SB\\1mm-1NF2F-SB.SPG             ... done\n",
      "Reading: Microplastics_BCET\\1mm-B1-SB\\1mm-B1-SB.SPG                   ... done\n",
      "Reading: Microplastics_BCET\\1mm-B2-SB\\1mm-B2-SB.SPG                   ... done\n",
      "Reading: Microplastics_BCET\\1mm-B3-SB\\1mm-B3-SB.SPG                   ... done\n",
      "Reading: Microplastics_BCET\\1mm-EFF1G-SB\\1mm-EFF1G-SB.SPG             ... done\n",
      "Reading: Microplastics_BCET\\1mm-EFF2F-SB\\1 mm-EFF2F-SB.SPG            ... done\n",
      "Reading: Microplastics_BCET\\1mm-EFF2G-SB\\1mm-EFF2G-SB.SPG             ... done\n",
      "Reading: Microplastics_BCET\\1mm-EFF3F-SB\\1mm-EFF3F-SB.SPG             ... done\n",
      "Reading: Microplastics_BCET\\1mm-EFF3G-SB\\1mm-EFF3G-SB.SPG             ... done\n",
      "Reading: Microplastics_BCET\\1mm-INF1F-SB\\1mm-INF1F-SB.SPG             ... done\n",
      "Reading: Microplastics_BCET\\1mm-INF3G-SB\\1mm-INF3G-SB.SPG             ... done\n",
      "Reading: Microplastics_BCET\\500um-B2-SB\\500um-B2-SB.SPG               ... done\n",
      "Reading: Microplastics_BCET\\500um-B3-SB\\500um-B3-SB.SPG               ... done\n",
      "Reading: Microplastics_BCET\\500um-EFF2G-SB\\500um-EFF2G-SB.SPG         ... done\n",
      "Reading: Microplastics_BCET\\500um-INF1F-SB\\500um-INF1F-SB.SPG         ... done\n",
      "Reading: Microplastics_BCET\\500um-INF2F-SB\\500um-INF2F-SB.SPG         ... done\n",
      "Reading: Microplastics_BCET\\500um-INF3F-SB\\500um-INF3F-SB.SPG         ... done\n",
      "Reading: Microplastics_BCET\\Acrylic_SD\\SD_Acrylic.SPG                 ... done\n",
      "Reading: Microplastics_BCET\\Cellulose_SD\\Cellulose_SD.SPG             ... done\n",
      "Reading: Microplastics_BCET\\ENR_SD\\SD_ENR.SPG                         ... done\n",
      "Reading: Microplastics_BCET\\EPDM_SD\\SD_EPDM.SPG                       ... done\n",
      "Reading: Microplastics_BCET\\HDPE_SD\\HDPE_SD.SPG                       ... done\n",
      "Reading: Microplastics_BCET\\LDPE_SD\\LDPE_SD.SPG                       ... done\n",
      "Reading: Microplastics_BCET\\Nylon_SD\\SD_Nylon.SPG                     ... done\n",
      "Reading: Microplastics_BCET\\PBAT_SD\\SD_PBAT.SPG                       ... done\n",
      "Reading: Microplastics_BCET\\PBS_SD\\SD_PBS.SPG                         ... done\n",
      "Reading: Microplastics_BCET\\PC_SD\\PC_SD.SPG                           ... done\n",
      "Reading: Microplastics_BCET\\PEEK_SD\\PEEK_SD.SPG                       ... done\n",
      "Reading: Microplastics_BCET\\PEI_SD\\SD_PEI.SPG                         ... done\n",
      "Reading: Microplastics_BCET\\PET_SD\\SD_PET.SPG                         ... done\n",
      "Reading: Microplastics_BCET\\PLA_SD\\SD_PLA.SPG                         ... done\n",
      "Reading: Microplastics_BCET\\PMMA_SD\\SD_PMMA.SPG                       ... done\n",
      "Reading: Microplastics_BCET\\POM_SD\\SD_POM.SPG                         ... done\n",
      "Reading: Microplastics_BCET\\PP_SD\\PP_SD.SPG                           ... done\n",
      "Reading: Microplastics_BCET\\PS_SD\\PS_SD.SPG                           ... done\n",
      "Reading: Microplastics_BCET\\PTEE_SD\\SD_PTEE.SPG                       ... done\n",
      "Reading: Microplastics_BCET\\PU_SD\\SD_PU.SPG                           ... done\n",
      "Reading: Microplastics_BCET\\PVA_SD\\SD_PVA.SPG                         ... done\n",
      "Reading: Microplastics_BCET\\PVC_SD\\PVC_SD.SPG                         ... done\n",
      "Reading: Microplastics_BCET\\uFTIR-EFF2-SB\\uFTIR-EFF2-SB.SPG           ... done\n",
      "Reading: Microplastics_BCET\\uFTIR-INF2-SB\\uFTIR-INF2-SB.SPG           ... done\n"
     ]
    }
   ],
   "source": [
    "for f in fl:\n",
    "    fn = os.path.basename(f)\n",
    "    if fn.startswith('AIR') or fn.startswith('Membrane') :\n",
    "        continue\n",
    "    print(f'Reading: {f:60s} ...', end=' ')\n",
    "    \n",
    "    # prepare output folder\n",
    "    subdir = os.path.split(os.path.dirname(f))[1]\n",
    "    dir_out = os.path.join(output_dir, subdir)\n",
    "    os.makedirs(dir_out, exist_ok=True)\n",
    "    \n",
    "    # read data and write each spectrum to csv file\n",
    "    X = scp.read_omnic(f)\n",
    "    for val, (_, name) in zip(X.data, X.y.labels):\n",
    "        # print(val.shape, name)\n",
    "        spectra = np.vstack([X.x.data, val]).T\n",
    "        \n",
    "        f_out = os.path.join(dir_out, name+'.csv')\n",
    "        \n",
    "        # spectra.tofile(f_out, sep = ',')\n",
    "        pd.DataFrame(spectra).to_csv(f_out, header=None, index=False)\n",
    " \n",
    "    print('done')"
   ]
  },
  {
   "cell_type": "markdown",
   "id": "39899302-c2d3-47ce-bbad-e1b9516c2d52",
   "metadata": {},
   "source": [
    "## Convert SPA files to CSV"
   ]
  },
  {
   "cell_type": "code",
   "execution_count": 6,
   "id": "c23622c4-c841-432a-b6c9-8069e2142ba4",
   "metadata": {},
   "outputs": [],
   "source": [
    "fl_membrane = glob.glob(os.path.join(input_dir, 'Membrane filter_SD', '**', 'Membrane*.spa'), recursive=True)"
   ]
  },
  {
   "cell_type": "code",
   "execution_count": 7,
   "id": "df9307f9-44a8-4e21-a0d5-2f5e5125582f",
   "metadata": {},
   "outputs": [
    {
     "name": "stdout",
     "output_type": "stream",
     "text": [
      "Reading: Membrane filter_SD             ... done\n"
     ]
    }
   ],
   "source": [
    "print(f'Reading: {\"Membrane filter_SD\":30s} ...', end=' ')\n",
    "\n",
    "# prepare output folder\n",
    "subdir = 'Membrane filter_SD'\n",
    "dir_out = os.path.join(output_dir, subdir)\n",
    "os.makedirs(dir_out, exist_ok=True)\n",
    "\n",
    "# read data and write each spectrum to csv file\n",
    "for f in fl_membrane:\n",
    "    Y = scp.read_omnic(f)\n",
    "    name = os.path.splitext(os.path.basename(f))[0]\n",
    "    spectra = np.vstack([Y.x.data, Y.data]).T\n",
    "\n",
    "    f_out = os.path.join(dir_out, name+'.csv')\n",
    "    pd.DataFrame(spectra).to_csv(f_out, header=None, index=False)\n",
    "print('done')"
   ]
  }
 ],
 "metadata": {
  "kernelspec": {
   "display_name": "Python 3 (ipykernel)",
   "language": "python",
   "name": "python3"
  },
  "language_info": {
   "codemirror_mode": {
    "name": "ipython",
    "version": 3
   },
   "file_extension": ".py",
   "mimetype": "text/x-python",
   "name": "python",
   "nbconvert_exporter": "python",
   "pygments_lexer": "ipython3",
   "version": "3.9.10"
  }
 },
 "nbformat": 4,
 "nbformat_minor": 5
}
